{
 "cells": [
  {
   "cell_type": "code",
   "execution_count": 1,
   "outputs": [],
   "source": [
    "from Framework import Confounder_Injection as CI\n",
    "from Framework import Models\n",
    "import importlib\n",
    "importlib.reload(Models)\n",
    "importlib.reload(CI)\n",
    "import torch"
   ],
   "metadata": {
    "collapsed": false,
    "pycharm": {
     "name": "#%%\n"
    }
   }
  },
  {
   "cell_type": "markdown",
   "source": [
    "# Experiments"
   ],
   "metadata": {
    "collapsed": false,
    "pycharm": {
     "name": "#%% md\n"
    }
   }
  },
  {
   "cell_type": "markdown",
   "source": [
    "modes:\n",
    "1. br_net\n",
    "2. black_n_white\n",
    "\n",
    "model:\n",
    "1. NeuralNetwork(inputsize)\n",
    "2. LeNet_5\n",
    "3. Br_Net"
   ],
   "metadata": {
    "collapsed": false,
    "pycharm": {
     "name": "#%% md\n"
    }
   }
  },
  {
   "cell_type": "markdown",
   "source": [
    "### NeuralNetwork"
   ],
   "metadata": {
    "collapsed": false,
    "pycharm": {
     "name": "#%% md\n"
    }
   }
  },
  {
   "cell_type": "markdown",
   "source": [
    "With the test_network class it's easy to test new combinations parameters"
   ],
   "metadata": {
    "collapsed": false,
    "pycharm": {
     "name": "#%% md\n"
    }
   }
  },
  {
   "cell_type": "code",
   "execution_count": null,
   "outputs": [],
   "source": [
    "model = Models.NeuralNetwork(32*32)\n",
    "c = CI.confounder(model=model)\n",
    "c.generate_data(training_data=\"br-net\", samples=512)\n",
    "acc, loss = c.train(epochs=100, batch_size=64, optimizer=torch.optim.Adam(model.parameters()))\n",
    "p = CI.plot()\n",
    "p.acc_loss(acc, loss)"
   ],
   "metadata": {
    "collapsed": false,
    "pycharm": {
     "name": "#%%\n"
    }
   }
  },
  {
   "cell_type": "code",
   "execution_count": null,
   "outputs": [],
   "source": [
    "p = CI.plot()\n",
    "p.tsne(c.train_x, c.train_y, 2)\n",
    "p.class_images(c.train_x)"
   ],
   "metadata": {
    "collapsed": false,
    "pycharm": {
     "name": "#%%\n"
    }
   }
  },
  {
   "cell_type": "markdown",
   "source": [
    "### ConvNet"
   ],
   "metadata": {
    "collapsed": false,
    "pycharm": {
     "name": "#%% md\n"
    }
   }
  },
  {
   "cell_type": "code",
   "execution_count": null,
   "outputs": [],
   "source": [
    "model = Models.LeNet_5()\n",
    "c = CI.confounder(model=model)\n",
    "c.generate_data(training_data=\"br-net\", samples=512)\n",
    "acc, loss = c.train(epochs=100, batch_size=64, optimizer=torch.optim.Adam(model.parameters()))\n",
    "p = CI.plot()\n",
    "p.acc_loss(acc, loss)"
   ],
   "metadata": {
    "collapsed": false,
    "pycharm": {
     "name": "#%%\n"
    }
   }
  },
  {
   "cell_type": "code",
   "execution_count": null,
   "outputs": [],
   "source": [
    "p = CI.plot()\n",
    "p.tsne(c.train_x, c.train_y, 2)\n",
    "p.class_images(c.train_x)"
   ],
   "metadata": {
    "collapsed": false,
    "pycharm": {
     "name": "#%%\n"
    }
   }
  },
  {
   "cell_type": "markdown",
   "source": [
    "### Br_Net"
   ],
   "metadata": {
    "collapsed": false,
    "pycharm": {
     "name": "#%% md\n"
    }
   }
  },
  {
   "cell_type": "code",
   "execution_count": null,
   "outputs": [],
   "source": [
    "model = Models.Br_Net()\n",
    "c = CI.confounder(model=model)\n",
    "c.generate_data(training_data=\"br-net\", samples=512)\n",
    "acc, loss = c.train(epochs=100, batch_size=64, optimizer=torch.optim.Adam(model.parameters()))\n",
    "p = CI.plot()\n",
    "p.acc_loss(acc, loss)"
   ],
   "metadata": {
    "collapsed": false,
    "pycharm": {
     "name": "#%%\n"
    }
   }
  },
  {
   "cell_type": "code",
   "execution_count": null,
   "outputs": [],
   "source": [
    "p = CI.plot()\n",
    "p.tsne(c.train_x, c.train_y, 2)\n",
    "p.class_images(c.train_x)"
   ],
   "metadata": {
    "collapsed": false,
    "pycharm": {
     "name": "#%%\n"
    }
   }
  }
 ],
 "metadata": {
  "kernelspec": {
   "name": "confounder_3.10",
   "language": "python",
   "display_name": "confounder_3.10"
  },
  "language_info": {
   "codemirror_mode": {
    "name": "ipython",
    "version": 3
   },
   "file_extension": ".py",
   "mimetype": "text/x-python",
   "name": "python",
   "nbconvert_exporter": "python",
   "pygments_lexer": "ipython3",
   "version": "3.9.7"
  }
 },
 "nbformat": 4,
 "nbformat_minor": 4
}