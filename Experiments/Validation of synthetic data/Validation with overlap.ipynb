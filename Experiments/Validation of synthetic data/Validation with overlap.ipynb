{
 "cells": [
  {
   "cell_type": "code",
   "execution_count": 5,
   "outputs": [],
   "source": [
    "import matplotlib.pyplot as plt\n",
    "\n",
    "import Framework.Confounder_Injection as CI\n",
    "import Framework.Models as Models\n",
    "import importlib\n",
    "importlib.reload(Models)\n",
    "importlib.reload(CI)\n",
    "import torch\n",
    "import pandas as pd\n",
    "import numpy as np\n",
    "import seaborn as sbs\n",
    "import matplotlib.pyplot as plt"
   ],
   "metadata": {
    "collapsed": false,
    "pycharm": {
     "name": "#%%\n"
    }
   }
  },
  {
   "cell_type": "code",
   "execution_count": 6,
   "outputs": [],
   "source": [
    "params = [\n",
    "    [[1, 4], [3, 6]], # real feature\n",
    "    [[10, 12], [20, 22]] # confounder\n",
    "    ]"
   ],
   "metadata": {
    "collapsed": false,
    "pycharm": {
     "name": "#%%\n"
    }
   }
  },
  {
   "cell_type": "code",
   "execution_count": 7,
   "outputs": [],
   "source": [
    "epochs = 10\n",
    "batch_size = 64"
   ],
   "metadata": {
    "collapsed": false,
    "pycharm": {
     "name": "#%%\n"
    }
   }
  },
  {
   "cell_type": "markdown",
   "source": [
    "# Validation with br_net and different overlap"
   ],
   "metadata": {
    "collapsed": false,
    "pycharm": {
     "name": "#%% md\n"
    }
   }
  },
  {
   "cell_type": "markdown",
   "source": [
    "## SimpleConv"
   ],
   "metadata": {
    "collapsed": false,
    "pycharm": {
     "name": "#%% md\n"
    }
   }
  },
  {
   "cell_type": "markdown",
   "source": [
    "#### overlap=0"
   ],
   "metadata": {
    "collapsed": false,
    "pycharm": {
     "name": "#%% md\n"
    }
   }
  },
  {
   "cell_type": "code",
   "execution_count": null,
   "outputs": [],
   "source": [
    "c = CI.confounder(seed=42)\n",
    "model = Models.SimpleConv()\n",
    "c.generate_data(mode=\"br_net\", overlap=0, samples=512, train_confounding=1, test_confounding=np.arange(0, 1.01, 0.2), params=params)\n",
    "c.train(model=model, epochs=epochs, batch_size=batch_size, optimizer=torch.optim.Adam, hyper_params={'lr':0.001})\n",
    "c.plot(test_images=True, accuracy_vs_strength=True, smoothgrad=True, saliency_iteration=[0,2], test_image_iteration=[0,2])"
   ],
   "metadata": {
    "collapsed": false,
    "pycharm": {
     "name": "#%%\n"
    }
   }
  },
  {
   "cell_type": "markdown",
   "source": [
    "#### overlap=16"
   ],
   "metadata": {
    "collapsed": false,
    "pycharm": {
     "name": "#%% md\n"
    }
   }
  },
  {
   "cell_type": "code",
   "execution_count": null,
   "outputs": [],
   "source": [
    "c = CI.confounder(seed=42)\n",
    "model = Models.SimpleConv()\n",
    "c.generate_data(mode=\"br_net\", overlap=16, samples=512, train_confounding=1, test_confounding=np.arange(0, 1.01, 0.2), params=params)\n",
    "c.train(model=model, epochs=epochs, batch_size=batch_size, optimizer=torch.optim.Adam, hyper_params={'lr':0.001})\n",
    "c.plot(test_images=True, accuracy_vs_strength=True, smoothgrad=True, saliency_iteration=[0,2], test_image_iteration=[0,2])"
   ],
   "metadata": {
    "collapsed": false,
    "pycharm": {
     "name": "#%%\n"
    }
   }
  },
  {
   "cell_type": "markdown",
   "source": [
    "#### overlap=32"
   ],
   "metadata": {
    "collapsed": false,
    "pycharm": {
     "name": "#%% md\n"
    }
   }
  },
  {
   "cell_type": "code",
   "execution_count": null,
   "outputs": [],
   "source": [
    "c = CI.confounder(seed=42)\n",
    "model = Models.SimpleConv()\n",
    "c.generate_data(mode=\"br_net\", overlap=32, samples=512, train_confounding=1, test_confounding=np.arange(0, 1.01, 0.2), params=params)\n",
    "c.train(model=model, epochs=epochs, batch_size=batch_size, optimizer=torch.optim.Adam, hyper_params={'lr':0.001})\n",
    "c.plot(test_images=True, accuracy_vs_strength=True, smoothgrad=True, saliency_iteration=[0,2], test_image_iteration=[0,2])"
   ],
   "metadata": {
    "collapsed": false,
    "pycharm": {
     "name": "#%%\n"
    }
   }
  },
  {
   "cell_type": "markdown",
   "source": [
    "## Neural Network"
   ],
   "metadata": {
    "collapsed": false,
    "pycharm": {
     "name": "#%% md\n"
    }
   }
  },
  {
   "cell_type": "markdown",
   "source": [
    "#### overlap=0"
   ],
   "metadata": {
    "collapsed": false,
    "pycharm": {
     "name": "#%% md\n"
    }
   }
  },
  {
   "cell_type": "code",
   "execution_count": null,
   "outputs": [],
   "source": [
    "c = CI.confounder(seed=42)\n",
    "model = Models.NeuralNetwork(32*32)\n",
    "c.generate_data(mode=\"br_net\", overlap=0, samples=512, train_confounding=1, test_confounding=np.arange(0, 1.01, 0.2), params=params)\n",
    "c.train(model=model, epochs=epochs, batch_size=batch_size, optimizer=torch.optim.Adam, hyper_params={'lr':0.001})\n",
    "c.plot(test_images=True, accuracy_vs_strength=True, smoothgrad=True, saliency_iteration=[0,2], test_image_iteration=[0,2])"
   ],
   "metadata": {
    "collapsed": false,
    "pycharm": {
     "name": "#%%\n"
    }
   }
  },
  {
   "cell_type": "markdown",
   "source": [
    "#### overlap=16"
   ],
   "metadata": {
    "collapsed": false,
    "pycharm": {
     "name": "#%% md\n"
    }
   }
  },
  {
   "cell_type": "code",
   "execution_count": null,
   "outputs": [],
   "source": [
    "c = CI.confounder(seed=42)\n",
    "model = Models.NeuralNetwork(32*32)\n",
    "c.generate_data(mode=\"br_net\", overlap=16, samples=512, train_confounding=1, test_confounding=np.arange(0, 1.01, 0.2), params=params)\n",
    "c.train(model=model, epochs=epochs, batch_size=batch_size, optimizer=torch.optim.Adam, hyper_params={'lr':0.001})\n",
    "c.plot(test_images=True, accuracy_vs_strength=True, smoothgrad=True, saliency_iteration=[0,2], test_image_iteration=[0,2])"
   ],
   "metadata": {
    "collapsed": false,
    "pycharm": {
     "name": "#%%\n"
    }
   }
  },
  {
   "cell_type": "markdown",
   "source": [
    "#### overlap=32"
   ],
   "metadata": {
    "collapsed": false,
    "pycharm": {
     "name": "#%% md\n"
    }
   }
  },
  {
   "cell_type": "code",
   "execution_count": null,
   "outputs": [],
   "source": [
    "c = CI.confounder(seed=42)\n",
    "model = Models.NeuralNetwork(32*32)\n",
    "c.generate_data(mode=\"br_net\", overlap=32, samples=512, train_confounding=1, test_confounding=np.arange(0, 1.01, 0.2), params=params)\n",
    "c.train(model=model, epochs=epochs, batch_size=batch_size, optimizer=torch.optim.Adam, hyper_params={'lr':0.001})\n",
    "c.plot(test_images=True, accuracy_vs_strength=True, smoothgrad=True, saliency_iteration=[0,2], test_image_iteration=[0,2])"
   ],
   "metadata": {
    "collapsed": false,
    "pycharm": {
     "name": "#%%\n"
    }
   }
  },
  {
   "cell_type": "markdown",
   "source": [
    "# Validation with other parameter set for the generator"
   ],
   "metadata": {
    "collapsed": false,
    "pycharm": {
     "name": "#%% md\n"
    }
   }
  },
  {
   "cell_type": "markdown",
   "source": [
    "It seems that the NNs are still able to separate the classes in the overlap=32 cases. This might possibly be because there is a large difference between the values of the features and the confounders between the classes. Adding the features on top of the confounders does not change it's value by much and the classes should be theoretically separable. If we choose the parameters as shown below the network should not be able to learn anything in the overlap=32 case. In the overlap=0 case perfect separation should be possible."
   ],
   "metadata": {
    "collapsed": false,
    "pycharm": {
     "name": "#%% md\n"
    }
   }
  },
  {
   "cell_type": "code",
   "execution_count": null,
   "outputs": [],
   "source": [
    "params = [\n",
    "    [[1, 4], [3, 6]], # real feature\n",
    "    [[3, 6], [1, 4]] # confounder\n",
    "]"
   ],
   "metadata": {
    "collapsed": false,
    "pycharm": {
     "name": "#%%\n"
    }
   }
  },
  {
   "cell_type": "markdown",
   "source": [
    "## SimpleConv"
   ],
   "metadata": {
    "collapsed": false,
    "pycharm": {
     "name": "#%% md\n"
    }
   }
  },
  {
   "cell_type": "markdown",
   "source": [
    "#### overlap=0"
   ],
   "metadata": {
    "collapsed": false,
    "pycharm": {
     "name": "#%% md\n"
    }
   }
  },
  {
   "cell_type": "code",
   "execution_count": null,
   "outputs": [],
   "source": [
    "c = CI.confounder(seed=42)\n",
    "model = Models.SimpleConv()\n",
    "c.generate_data(mode=\"br_net\", overlap=0, samples=512, train_confounding=1, test_confounding=np.arange(0, 1.01, 0.2),\n",
    "                params=params)\n",
    "c.train(model=model, epochs=epochs, batch_size=batch_size, optimizer=torch.optim.Adam, hyper_params={'lr': 0.001})\n",
    "c.plot(test_images=True, accuracy_vs_strength=True, smoothgrad=True, saliency_iteration=[0,2], test_image_iteration=[0,2])"
   ],
   "metadata": {
    "collapsed": false,
    "pycharm": {
     "name": "#%%\n"
    }
   }
  },
  {
   "cell_type": "markdown",
   "source": [
    "#### overlap=32"
   ],
   "metadata": {
    "collapsed": false,
    "pycharm": {
     "name": "#%% md\n"
    }
   }
  },
  {
   "cell_type": "code",
   "execution_count": null,
   "outputs": [],
   "source": [
    "c = CI.confounder(seed=42)\n",
    "model = Models.SimpleConv()\n",
    "c.generate_data(mode=\"br_net\", overlap=32, samples=512, train_confounding=1, test_confounding=np.arange(0, 1.01, 0.2), params=params)\n",
    "c.train(model=model, epochs=epochs, batch_size=batch_size, optimizer=torch.optim.Adam, hyper_params={'lr':0.001})\n",
    "c.plot(test_images=True, accuracy_vs_strength=True, smoothgrad=True, saliency_iteration=[0,2], test_image_iteration=[0,2])"
   ],
   "metadata": {
    "collapsed": false,
    "pycharm": {
     "name": "#%%\n"
    }
   }
  }
 ],
 "metadata": {
  "kernelspec": {
   "name": "confounder_3.10",
   "language": "python",
   "display_name": "confounder_3.10"
  },
  "language_info": {
   "codemirror_mode": {
    "name": "ipython",
    "version": 2
   },
   "file_extension": ".py",
   "mimetype": "text/x-python",
   "name": "python",
   "nbconvert_exporter": "python",
   "pygments_lexer": "ipython2",
   "version": "2.7.6"
  }
 },
 "nbformat": 4,
 "nbformat_minor": 0
}