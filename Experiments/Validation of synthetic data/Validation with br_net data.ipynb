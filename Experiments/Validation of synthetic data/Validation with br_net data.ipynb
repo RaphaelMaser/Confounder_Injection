{
 "cells": [
  {
   "cell_type": "code",
   "execution_count": 13,
   "outputs": [],
   "source": [
    "import matplotlib.pyplot as plt\n",
    "\n",
    "import Framework.Confounder_Injection as CI\n",
    "import Framework.Models as Models\n",
    "import importlib\n",
    "importlib.reload(Models)\n",
    "importlib.reload(CI)\n",
    "import torch\n",
    "import pandas as pd\n",
    "import numpy as np\n",
    "import seaborn as sbs\n",
    "import matplotlib.pyplot as plt"
   ],
   "metadata": {
    "collapsed": false,
    "pycharm": {
     "name": "#%%\n"
    }
   }
  },
  {
   "cell_type": "markdown",
   "source": [
    "# Validation with br_net data"
   ],
   "metadata": {
    "collapsed": false,
    "pycharm": {
     "name": "#%% md\n"
    }
   }
  },
  {
   "cell_type": "markdown",
   "source": [
    "The synthetic data closely resembles real world data. Information of classes does overlap (classes share the same space on the picture). Since confounder and real features do not overlap it might be easier to learn the confounders compared to the real world."
   ],
   "metadata": {
    "collapsed": false,
    "pycharm": {
     "name": "#%% md\n"
    }
   }
  },
  {
   "cell_type": "markdown",
   "source": [
    "modes:\n",
    "1. br_net\n",
    "2. black_n_white\n",
    "\n",
    "model:\n",
    "1. NeuralNetwork(inputsize)\n",
    "2. LeNet_5\n",
    "3. Br_Net"
   ],
   "metadata": {
    "collapsed": false,
    "pycharm": {
     "name": "#%% md\n"
    }
   }
  },
  {
   "cell_type": "markdown",
   "source": [
    "## SimpleConv model"
   ],
   "metadata": {
    "collapsed": false,
    "pycharm": {
     "name": "#%% md\n"
    }
   }
  },
  {
   "cell_type": "code",
   "execution_count": 14,
   "outputs": [],
   "source": [
    "params = [\n",
    "    [[1, 4], [3, 6]], # real feature\n",
    "    [[10, 12], [20, 22]] # confounder\n",
    "    ]"
   ],
   "metadata": {
    "collapsed": false,
    "pycharm": {
     "name": "#%%\n"
    }
   }
  },
  {
   "cell_type": "code",
   "execution_count": null,
   "outputs": [],
   "source": [
    "batch_size = 64"
   ],
   "metadata": {
    "collapsed": false,
    "pycharm": {
     "name": "#%%\n"
    }
   }
  },
  {
   "cell_type": "markdown",
   "source": [
    "With the test_network class it's easy to test new combinations parameters"
   ],
   "metadata": {
    "collapsed": false,
    "pycharm": {
     "name": "#%% md\n"
    }
   }
  },
  {
   "cell_type": "markdown",
   "source": [
    "### No confounder"
   ],
   "metadata": {
    "collapsed": false,
    "pycharm": {
     "name": "#%% md\n"
    }
   }
  },
  {
   "cell_type": "code",
   "execution_count": null,
   "outputs": [],
   "source": [
    "c = CI.confounder()\n",
    "model = Models.SimpleConv()\n",
    "c.generate_data(mode=\"br-net\", samples=512, train_confounding=0, test_confounding=[0], params=params)\n",
    "c.train(model=model, epochs=5, batch_size=batch_size, optimizer=torch.optim.Adam, hyper_params={'lr':0.001})\n",
    "c.plot(accuracy_vs_epoch=True, test_images=True, saliency=True, smoothgrad=True)"
   ],
   "metadata": {
    "collapsed": false,
    "pycharm": {
     "name": "#%%\n"
    }
   }
  },
  {
   "cell_type": "markdown",
   "source": [
    "### Train- and testset confounded"
   ],
   "metadata": {
    "collapsed": false,
    "pycharm": {
     "name": "#%% md\n"
    }
   }
  },
  {
   "cell_type": "code",
   "execution_count": null,
   "outputs": [],
   "source": [
    "c = CI.confounder()\n",
    "model = Models.SimpleConv()\n",
    "c.generate_data(mode=\"br-net\", samples=512, train_confounding=1, test_confounding=[1], params=params)\n",
    "c.train(model=model, epochs=5, batch_size=batch_size, optimizer=torch.optim.Adam, hyper_params={'lr':0.001})\n",
    "c.plot(accuracy_vs_epoch=True, test_images=True, saliency=True, smoothgrad=True)"
   ],
   "metadata": {
    "collapsed": false,
    "pycharm": {
     "name": "#%%\n"
    }
   }
  },
  {
   "cell_type": "markdown",
   "source": [
    "### Trainset confounded, testset 50% confounding"
   ],
   "metadata": {
    "collapsed": false,
    "pycharm": {
     "name": "#%% md\n"
    }
   }
  },
  {
   "cell_type": "code",
   "execution_count": null,
   "outputs": [],
   "source": [
    "c = CI.confounder()\n",
    "model = Models.SimpleConv()\n",
    "c.generate_data(mode=\"br-net\", samples=512, train_confounding=1, test_confounding=[0.5], params=params)\n",
    "c.train(model=model, epochs=5, batch_size=batch_size, optimizer=torch.optim.Adam, hyper_params={'lr':0.001})\n",
    "c.plot(accuracy_vs_epoch=True)"
   ],
   "metadata": {
    "collapsed": false,
    "pycharm": {
     "name": "#%%\n"
    }
   }
  },
  {
   "cell_type": "markdown",
   "source": [
    "### Trainset confounded, testset unconfounded"
   ],
   "metadata": {
    "collapsed": false,
    "pycharm": {
     "name": "#%% md\n"
    }
   }
  },
  {
   "cell_type": "code",
   "execution_count": null,
   "outputs": [],
   "source": [
    "c = CI.confounder()\n",
    "model = Models.SimpleConv()\n",
    "c.generate_data(mode=\"br-net\", samples=512, train_confounding=1, test_confounding=[0], params=params)\n",
    "c.train(model=model, epochs=5, batch_size=batch_size, optimizer=torch.optim.Adam, hyper_params={'lr':0.001})\n",
    "c.plot(accuracy_vs_epoch=True)"
   ],
   "metadata": {
    "collapsed": false,
    "pycharm": {
     "name": "#%%\n"
    }
   }
  },
  {
   "cell_type": "markdown",
   "source": [
    "### Accuracy vs. confounding strength in testset"
   ],
   "metadata": {
    "collapsed": false,
    "pycharm": {
     "name": "#%% md\n"
    }
   }
  },
  {
   "cell_type": "markdown",
   "source": [
    "For 5 epochs"
   ],
   "metadata": {
    "collapsed": false,
    "pycharm": {
     "name": "#%% md\n"
    }
   }
  },
  {
   "cell_type": "code",
   "execution_count": null,
   "outputs": [],
   "source": [
    "c = CI.confounder(debug=False)\n",
    "model = Models.SimpleConv()\n",
    "c.generate_data(mode=\"br-net\", samples=512, train_confounding=1, test_confounding=np.arange(0, 1.01, 0.2), params=params)\n",
    "c.train(model=model, epochs=5, batch_size=batch_size, optimizer=torch.optim.Adam, hyper_params={'lr':0.001})\n",
    "c.plot(accuracy_vs_strength=True)"
   ],
   "metadata": {
    "collapsed": false,
    "pycharm": {
     "name": "#%%\n"
    }
   }
  },
  {
   "cell_type": "markdown",
   "source": [
    "For 20 epochs"
   ],
   "metadata": {
    "collapsed": false,
    "pycharm": {
     "name": "#%% md\n"
    }
   }
  },
  {
   "cell_type": "code",
   "execution_count": null,
   "outputs": [],
   "source": [
    "c = CI.confounder()\n",
    "model = Models.SimpleConv()\n",
    "c.generate_data(mode=\"br-net\", samples=512, train_confounding=1, test_confounding=np.arange(0, 1.01, 0.2), params=params)\n",
    "c.train(model=model, epochs=10, batch_size=batch_size, optimizer=torch.optim.Adam, hyper_params={'lr':0.001})\n",
    "c.plot(accuracy_vs_strength=True, smoothgrad=True, saliency_iteration=[0,2])"
   ],
   "metadata": {
    "collapsed": false,
    "pycharm": {
     "name": "#%%\n"
    }
   }
  },
  {
   "cell_type": "markdown",
   "source": [
    "## NeuralNetwork model"
   ],
   "metadata": {
    "collapsed": false,
    "pycharm": {
     "name": "#%% md\n"
    }
   }
  },
  {
   "cell_type": "markdown",
   "source": [
    "### Accuracy vs. confounding strength in testset"
   ],
   "metadata": {
    "collapsed": false,
    "pycharm": {
     "name": "#%% md\n"
    }
   }
  },
  {
   "cell_type": "markdown",
   "source": [
    "For 5 epochs"
   ],
   "metadata": {
    "collapsed": false,
    "pycharm": {
     "name": "#%% md\n"
    }
   }
  },
  {
   "cell_type": "code",
   "execution_count": null,
   "outputs": [],
   "source": [
    "c = CI.confounder()\n",
    "model = Models.NeuralNetwork(32*32)\n",
    "c.generate_data(mode=\"br-net\", samples=512, train_confounding=1, test_confounding=np.arange(0, 1.01, 0.2), params=params)\n",
    "c.train(model=model, epochs=5, batch_size=batch_size, optimizer=torch.optim.Adam, hyper_params={'lr':0.001})\n",
    "c.plot(accuracy_vs_strength=True)"
   ],
   "metadata": {
    "collapsed": false,
    "pycharm": {
     "name": "#%%\n"
    }
   }
  },
  {
   "cell_type": "markdown",
   "source": [
    "For 20 epochs"
   ],
   "metadata": {
    "collapsed": false,
    "pycharm": {
     "name": "#%% md\n"
    }
   }
  },
  {
   "cell_type": "code",
   "execution_count": null,
   "outputs": [],
   "source": [
    "c = CI.confounder(seed=42)\n",
    "model = Models.NeuralNetwork(32*32)\n",
    "c.generate_data(mode=\"br-net\", samples=512, train_confounding=1, test_confounding=np.arange(0, 1.01, 0.2), params=params)\n",
    "c.train(model=model, epochs=10, batch_size=batch_size, optimizer=torch.optim.Adam, hyper_params={'lr':0.001})\n",
    "c.plot(accuracy_vs_strength=True, smoothgrad=True, saliency_iteration=[0,2])"
   ],
   "metadata": {
    "collapsed": false,
    "pycharm": {
     "name": "#%%\n"
    }
   }
  }
 ],
 "metadata": {
  "kernelspec": {
   "name": "confounder_3.10",
   "language": "python",
   "display_name": "confounder_3.10"
  },
  "language_info": {
   "codemirror_mode": {
    "name": "ipython",
    "version": 2
   },
   "file_extension": ".py",
   "mimetype": "text/x-python",
   "name": "python",
   "nbconvert_exporter": "python",
   "pygments_lexer": "ipython2",
   "version": "2.7.6"
  }
 },
 "nbformat": 4,
 "nbformat_minor": 0
}