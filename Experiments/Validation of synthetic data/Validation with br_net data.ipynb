{
 "cells": [
  {
   "cell_type": "code",
   "execution_count": 1,
   "outputs": [],
   "source": [
    "import matplotlib.pyplot as plt\n",
    "\n",
    "import Framework.Confounder_Injection as CI\n",
    "import Framework.Models as Models\n",
    "import importlib\n",
    "importlib.reload(Models)\n",
    "importlib.reload(CI)\n",
    "import torch\n",
    "import pandas as pd\n",
    "import numpy as np\n",
    "import seaborn as sbs\n",
    "import matplotlib.pyplot as plt"
   ],
   "metadata": {
    "collapsed": false
   }
  },
  {
   "cell_type": "markdown",
   "source": [
    "# Validation with br_net data"
   ],
   "metadata": {
    "collapsed": false
   }
  },
  {
   "cell_type": "markdown",
   "source": [
    "The synthetic data closely resembles real world data. Information of classes does overlap (classes share the same space on the picture). Since confounder and real features do not overlap it might be easier to learn the confounders compared to the real world."
   ],
   "metadata": {
    "collapsed": false
   }
  },
  {
   "cell_type": "markdown",
   "source": [
    "modes:\n",
    "1. br_net\n",
    "2. black_n_white\n",
    "\n",
    "model:\n",
    "1. NeuralNetwork(inputsize)\n",
    "2. LeNet_5\n",
    "3. Br_Net"
   ],
   "metadata": {
    "collapsed": false
   }
  },
  {
   "cell_type": "markdown",
   "source": [
    "## SimpleConv model"
   ],
   "metadata": {
    "collapsed": false
   }
  },
  {
   "cell_type": "code",
   "execution_count": 2,
   "outputs": [],
   "source": [
    "params = [\n",
    "    [[1, 4], [3, 6]], # real feature\n",
    "    [[10, 12], [20, 22]] # confounder\n",
    "    ]"
   ],
   "metadata": {
    "collapsed": false
   }
  },
  {
   "cell_type": "code",
   "execution_count": 3,
   "outputs": [],
   "source": [
    "batch_size = 64"
   ],
   "metadata": {
    "collapsed": false
   }
  },
  {
   "cell_type": "markdown",
   "source": [
    "With the test_network class it's easy to test new combinations parameters"
   ],
   "metadata": {
    "collapsed": false
   }
  },
  {
   "cell_type": "markdown",
   "source": [
    "### No confounder"
   ],
   "metadata": {
    "collapsed": false
   }
  },
  {
   "cell_type": "code",
   "execution_count": 4,
   "outputs": [
    {
     "ename": "TypeError",
     "evalue": "confounder.train() got an unexpected keyword argument 'batch_size'",
     "output_type": "error",
     "traceback": [
      "\u001B[0;31m---------------------------------------------------------------------------\u001B[0m",
      "\u001B[0;31mTypeError\u001B[0m                                 Traceback (most recent call last)",
      "Input \u001B[0;32mIn [4]\u001B[0m, in \u001B[0;36m<cell line: 4>\u001B[0;34m()\u001B[0m\n\u001B[1;32m      2\u001B[0m model \u001B[38;5;241m=\u001B[39m Models\u001B[38;5;241m.\u001B[39mSimpleConv()\n\u001B[1;32m      3\u001B[0m c\u001B[38;5;241m.\u001B[39mgenerate_data(mode\u001B[38;5;241m=\u001B[39m\u001B[38;5;124m\"\u001B[39m\u001B[38;5;124mbr-net\u001B[39m\u001B[38;5;124m\"\u001B[39m, samples\u001B[38;5;241m=\u001B[39m\u001B[38;5;241m512\u001B[39m, train_confounding\u001B[38;5;241m=\u001B[39m\u001B[38;5;241m0\u001B[39m, test_confounding\u001B[38;5;241m=\u001B[39m[\u001B[38;5;241m0\u001B[39m], params\u001B[38;5;241m=\u001B[39mparams)\n\u001B[0;32m----> 4\u001B[0m \u001B[43mc\u001B[49m\u001B[38;5;241;43m.\u001B[39;49m\u001B[43mtrain\u001B[49m\u001B[43m(\u001B[49m\u001B[43mmodel\u001B[49m\u001B[38;5;241;43m=\u001B[39;49m\u001B[43mmodel\u001B[49m\u001B[43m,\u001B[49m\u001B[43m \u001B[49m\u001B[43mepochs\u001B[49m\u001B[38;5;241;43m=\u001B[39;49m\u001B[38;5;241;43m5\u001B[39;49m\u001B[43m,\u001B[49m\u001B[43m \u001B[49m\u001B[43mbatch_size\u001B[49m\u001B[38;5;241;43m=\u001B[39;49m\u001B[43mbatch_size\u001B[49m\u001B[43m,\u001B[49m\u001B[43m \u001B[49m\u001B[43moptimizer\u001B[49m\u001B[38;5;241;43m=\u001B[39;49m\u001B[43mtorch\u001B[49m\u001B[38;5;241;43m.\u001B[39;49m\u001B[43moptim\u001B[49m\u001B[38;5;241;43m.\u001B[39;49m\u001B[43mAdam\u001B[49m\u001B[43m,\u001B[49m\u001B[43m \u001B[49m\u001B[43mhyper_params\u001B[49m\u001B[38;5;241;43m=\u001B[39;49m\u001B[43m{\u001B[49m\u001B[38;5;124;43m'\u001B[39;49m\u001B[38;5;124;43mlr\u001B[39;49m\u001B[38;5;124;43m'\u001B[39;49m\u001B[43m:\u001B[49m\u001B[38;5;241;43m0.001\u001B[39;49m\u001B[43m,\u001B[49m\u001B[43m \u001B[49m\u001B[38;5;124;43m\"\u001B[39;49m\u001B[38;5;124;43mweight_decay\u001B[39;49m\u001B[38;5;124;43m\"\u001B[39;49m\u001B[43m:\u001B[49m\u001B[43m \u001B[49m\u001B[38;5;241;43m0\u001B[39;49m\u001B[43m}\u001B[49m\u001B[43m)\u001B[49m\n\u001B[1;32m      5\u001B[0m c\u001B[38;5;241m.\u001B[39mplot(accuracy_vs_epoch\u001B[38;5;241m=\u001B[39m\u001B[38;5;28;01mTrue\u001B[39;00m, test_images\u001B[38;5;241m=\u001B[39m\u001B[38;5;28;01mTrue\u001B[39;00m, saliency\u001B[38;5;241m=\u001B[39m\u001B[38;5;28;01mTrue\u001B[39;00m, smoothgrad\u001B[38;5;241m=\u001B[39m\u001B[38;5;28;01mTrue\u001B[39;00m)\n",
      "\u001B[0;31mTypeError\u001B[0m: confounder.train() got an unexpected keyword argument 'batch_size'"
     ]
    }
   ],
   "source": [
    "c = CI.confounder()\n",
    "model = Models.SimpleConv()\n",
    "c.generate_data(mode=\"br-net\", samples=512, train_confounding=0, test_confounding=[0], params=params)\n",
    "c.train(model=model, epochs=5, batch_size=batch_size, optimizer=torch.optim.Adam, hyper_params={'lr':0.001, \"weight_decay\": 0})\n",
    "c.plot(accuracy_vs_epoch=True, test_images=True, saliency=True, smoothgrad=True)"
   ],
   "metadata": {
    "collapsed": false
   }
  },
  {
   "cell_type": "markdown",
   "source": [
    "### Train- and testset confounded"
   ],
   "metadata": {
    "collapsed": false
   }
  },
  {
   "cell_type": "code",
   "execution_count": null,
   "outputs": [],
   "source": [
    "c = CI.confounder()\n",
    "model = Models.SimpleConv()\n",
    "c.generate_data(mode=\"br-net\", samples=512, train_confounding=1, test_confounding=[1], params=params)\n",
    "c.train(model=model, epochs=5, batch_size=batch_size, optimizer=torch.optim.Adam, hyper_params={'lr':0.001, \"weight_decay\": 0})\n",
    "c.plot(accuracy_vs_epoch=True, test_images=True, saliency=True, smoothgrad=True)"
   ],
   "metadata": {
    "collapsed": false
   }
  },
  {
   "cell_type": "markdown",
   "source": [
    "### Trainset confounded, testset 50% confounding"
   ],
   "metadata": {
    "collapsed": false
   }
  },
  {
   "cell_type": "code",
   "execution_count": null,
   "outputs": [],
   "source": [
    "c = CI.confounder()\n",
    "model = Models.SimpleConv()\n",
    "c.generate_data(mode=\"br-net\", samples=512, train_confounding=1, test_confounding=[0.5], params=params)\n",
    "c.train(model=model, epochs=5, batch_size=batch_size, optimizer=torch.optim.Adam, hyper_params={'lr':0.001, \"weight_decay\": 0})\n",
    "c.plot(accuracy_vs_epoch=True)"
   ],
   "metadata": {
    "collapsed": false
   }
  },
  {
   "cell_type": "markdown",
   "source": [
    "### Trainset confounded, testset unconfounded"
   ],
   "metadata": {
    "collapsed": false
   }
  },
  {
   "cell_type": "code",
   "execution_count": null,
   "outputs": [],
   "source": [
    "c = CI.confounder()\n",
    "model = Models.SimpleConv()\n",
    "c.generate_data(mode=\"br-net\", samples=512, train_confounding=1, test_confounding=[0], params=params)\n",
    "c.train(model=model, epochs=5, batch_size=batch_size, optimizer=torch.optim.Adam, hyper_params={'lr':0.001, \"weight_decay\": 0})\n",
    "c.plot(accuracy_vs_epoch=True)"
   ],
   "metadata": {
    "collapsed": false
   }
  },
  {
   "cell_type": "markdown",
   "source": [
    "### Accuracy vs. confounding strength in testset"
   ],
   "metadata": {
    "collapsed": false
   }
  },
  {
   "cell_type": "markdown",
   "source": [
    "For 5 epochs"
   ],
   "metadata": {
    "collapsed": false
   }
  },
  {
   "cell_type": "code",
   "execution_count": null,
   "outputs": [],
   "source": [
    "c = CI.confounder(debug=False)\n",
    "model = Models.SimpleConv()\n",
    "c.generate_data(mode=\"br-net\", samples=512, train_confounding=1, test_confounding=np.arange(0, 1.01, 0.2), params=params)\n",
    "c.train(model=model, epochs=5, batch_size=batch_size, optimizer=torch.optim.Adam, hyper_params={'lr':0.001, \"weight_decay\": 0})\n",
    "c.plot(accuracy_vs_strength=True)"
   ],
   "metadata": {
    "collapsed": false
   }
  },
  {
   "cell_type": "markdown",
   "source": [
    "For 20 epochs"
   ],
   "metadata": {
    "collapsed": false
   }
  },
  {
   "cell_type": "code",
   "execution_count": null,
   "outputs": [],
   "source": [
    "c = CI.confounder()\n",
    "model = Models.SimpleConv()\n",
    "c.generate_data(mode=\"br-net\", samples=512, train_confounding=1, test_confounding=np.arange(0, 1.01, 0.2), params=params)\n",
    "c.train(model=model, epochs=10, batch_size=batch_size, optimizer=torch.optim.Adam, hyper_params={'lr':0.001, \"weight_decay\": 0})\n",
    "c.plot(accuracy_vs_strength=True, smoothgrad=True, saliency_iteration=[0,2])"
   ],
   "metadata": {
    "collapsed": false
   }
  },
  {
   "cell_type": "markdown",
   "source": [
    "## NeuralNetwork model"
   ],
   "metadata": {
    "collapsed": false
   }
  },
  {
   "cell_type": "markdown",
   "source": [
    "### Accuracy vs. confounding strength in testset"
   ],
   "metadata": {
    "collapsed": false
   }
  },
  {
   "cell_type": "markdown",
   "source": [
    "For 5 epochs"
   ],
   "metadata": {
    "collapsed": false
   }
  },
  {
   "cell_type": "code",
   "execution_count": null,
   "outputs": [],
   "source": [
    "c = CI.confounder()\n",
    "model = Models.NeuralNetwork(32*32)\n",
    "c.generate_data(mode=\"br-net\", samples=512, train_confounding=1, test_confounding=np.arange(0, 1.01, 0.2), params=params)\n",
    "c.train(model=model, epochs=5, batch_size=batch_size, optimizer=torch.optim.Adam, hyper_params={'lr':0.001, \"weight_decay\": 0})\n",
    "c.plot(accuracy_vs_strength=True)"
   ],
   "metadata": {
    "collapsed": false
   }
  },
  {
   "cell_type": "markdown",
   "source": [
    "For 20 epochs"
   ],
   "metadata": {
    "collapsed": false
   }
  },
  {
   "cell_type": "code",
   "execution_count": null,
   "outputs": [],
   "source": [
    "c = CI.confounder(seed=42)\n",
    "model = Models.NeuralNetwork(32*32)\n",
    "c.generate_data(mode=\"br-net\", samples=512, train_confounding=1, test_confounding=np.arange(0, 1.01, 0.2), params=params)\n",
    "c.train(model=model, epochs=10, batch_size=batch_size, optimizer=torch.optim.Adam, hyper_params={'lr':0.001, \"weight_decay\": 0})\n",
    "c.plot(accuracy_vs_strength=True, smoothgrad=True, saliency_iteration=[0,2])"
   ],
   "metadata": {
    "collapsed": false
   }
  }
 ],
 "metadata": {
  "kernelspec": {
   "name": "confounder_3.10",
   "language": "python",
   "display_name": "confounder_3.10"
  },
  "language_info": {
   "codemirror_mode": {
    "name": "ipython",
    "version": 2
   },
   "file_extension": ".py",
   "mimetype": "text/x-python",
   "name": "python",
   "nbconvert_exporter": "python",
   "pygments_lexer": "ipython2",
   "version": "2.7.6"
  }
 },
 "nbformat": 4,
 "nbformat_minor": 0
}
