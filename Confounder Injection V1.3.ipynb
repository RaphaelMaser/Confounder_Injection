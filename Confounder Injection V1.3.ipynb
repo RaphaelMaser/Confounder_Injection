{
 "cells": [
  {
   "cell_type": "code",
   "execution_count": 108,
   "metadata": {},
   "outputs": [],
   "source": [
    "#import pandas as pd\n",
    "import numpy as np\n",
    "import matplotlib.pyplot as plt\n",
    "import random\n",
    "import json"
   ]
  },
  {
   "cell_type": "markdown",
   "metadata": {},
   "source": [
    "### changelog\n",
    "- new model with more dimensions\n",
    "- all classes remade\n",
    "- in general more interaction with constructor"
   ]
  },
  {
   "cell_type": "markdown",
   "metadata": {},
   "source": [
    "# Workflow"
   ]
  },
  {
   "cell_type": "markdown",
   "metadata": {},
   "source": [
    "functions of the different classes:\n",
    "\n",
    "1. generator:\n",
    "\n",
    "    generate data sampled from gaussian distribution\n",
    "\n",
    "    in: parameters\n",
    "\n",
    "    out: [class, samples, features]\n",
    "    \n",
    "\n",
    "2. confounder_injection: confound generated data \n",
    "\n",
    "    create bias with different functions (atm \"prior shift\" can be used)\n",
    "    \n",
    "    in: [class, samples, features], parameters\n",
    "    \n",
    "    out [class, samples, features]\n",
    "\n",
    "\n",
    "3. create_dataset:\n",
    "    \n",
    "    takes numpy array and parameters to create tensors, datasets and finally dataloaders (for input in pytorch models)\n",
    "\n",
    "    in: [samples, features], split\n",
    "    \n",
    "    out: dataloaders\n",
    "    \n",
    "\n",
    "4. run_pytorch:\n",
    "    \n",
    "    trains and tests model with given dataloaders and parameters\n",
    "    \n",
    "    in: mode, dataloaders\n",
    "    \n",
    "    out: mean accuracy and loss\n",
    "    \n",
    "\n",
    "5. test_network\n",
    "    in: params, number of rounds\n",
    "    \n",
    "    combines these functions for easier testing"
   ]
  },
  {
   "cell_type": "markdown",
   "metadata": {},
   "source": [
    "# Plotting"
   ]
  },
  {
   "cell_type": "code",
   "execution_count": 109,
   "metadata": {},
   "outputs": [],
   "source": [
    "# plot distributions (includes all samples of the class)\n",
    "def plot_dist(data):\n",
    "    size = data.shape[1:]\n",
    "    \n",
    "    for c in data:\n",
    "        c = np.array(c).flatten()\n",
    "        plt.hist(c, bins=100, density=True)\n",
    "    plt.title(\"Distribution of values\")\n",
    "    plt.ylabel(\"Probability\")\n",
    "    plt.xlabel(\"Value\")\n",
    "    plt.show()"
   ]
  },
  {
   "cell_type": "code",
   "execution_count": 110,
   "metadata": {},
   "outputs": [],
   "source": [
    "# plot 2 distributions\n",
    "def plot_2dist(data, data_cf):\n",
    "    \n",
    "    fig, (ax1, ax2) = plt.subplots(1, 2, sharey=True, sharex=True)\n",
    "    fig.suptitle('Comparison of confounded and non-confounded distributions')\n",
    "    fig.set_figwidth(15)\n",
    "\n",
    "    # plot original distributions\n",
    "    for c in data:\n",
    "        c = np.array(c).flatten()\n",
    "        ax1.hist(c, bins=100, density=False)\n",
    "    ax1.set_title(\"Distribution of values\")\n",
    "    ax1.set(xlabel=\"Value\", ylabel=\"Number of Samples\")\n",
    "\n",
    "    # plot confounded distributions\n",
    "    for c in data_cf:\n",
    "        c = np.array(c).flatten()\n",
    "        ax2.hist(c, bins=100, density=False)\n",
    "\n",
    "    ax2.set_title(\"Distribution of confounded values\")\n",
    "    ax2.set(xlabel=\"Value\", ylabel=\"Number of Samples\")"
   ]
  },
  {
   "cell_type": "markdown",
   "metadata": {},
   "source": [
    "# Generating Data"
   ]
  },
  {
   "cell_type": "markdown",
   "metadata": {},
   "source": [
    "Generator returns data of dimension (class, samples, features) where the features of the samples are taken from gaussian distributions with adjustable parameters."
   ]
  },
  {
   "cell_type": "code",
   "execution_count": 111,
   "metadata": {},
   "outputs": [],
   "source": [
    "class generator:\n",
    "    def __init__(self, params):\n",
    "        self.data = None\n",
    "        self.params = params[\"generator\"]\n",
    "        self.create_data()\n",
    "        \n",
    "    \n",
    "    \n",
    "    def create_data(self):\n",
    "        '''\n",
    "        creates the test data with the distributions given by the parameters\n",
    "        '''\n",
    "        \n",
    "        data = []\n",
    "        \n",
    "        for c in self.params[\"gauss\"]:\n",
    "            clas = []\n",
    "            for n in range(0, self.params[\"sample_number\"]):\n",
    "                sample = []\n",
    "                for mean, std in self.params[\"gauss\"][c]:\n",
    "                    sample.extend(np.random.normal(mean, std, 1))\n",
    "                clas.append(sample)\n",
    "            data.append(clas)\n",
    "                                \n",
    "        self.data = np.array(data)\n",
    "        \n",
    "        return\n",
    "    \n",
    "        \n",
    "    def get_data(self):\n",
    "        '''\n",
    "        dimension of data is (class, sample, feature)\n",
    "        '''\n",
    "        \n",
    "        return self.data\n",
    "    "
   ]
  },
  {
   "cell_type": "markdown",
   "metadata": {},
   "source": [
    "convert_to_3d takes x of dimension (samples, features) and y of dimension (samples) and outputs array of dimension (class, samples, features)"
   ]
  },
  {
   "cell_type": "code",
   "execution_count": 112,
   "metadata": {},
   "outputs": [],
   "source": [
    "def convert_to_3d(x, y):\n",
    "    classes = np.unique(y)\n",
    "    array = []\n",
    "    \n",
    "    for c in classes:\n",
    "        filter_array = (y == c)\n",
    "        \n",
    "        array.append(x[filter_array].tolist())\n",
    "    \n",
    "    return np.array(array)\n",
    "    "
   ]
  },
  {
   "cell_type": "markdown",
   "metadata": {},
   "source": [
    "convert_to_2d takes data of dimension (class, samples, features) and outputs arrays x of dimension (samples, features) and y of dimension (samples)"
   ]
  },
  {
   "cell_type": "code",
   "execution_count": 113,
   "metadata": {},
   "outputs": [],
   "source": [
    "def convert_to_2d(x):\n",
    "    new_x = np.reshape(x,(x.shape[0]*x.shape[1], x.shape[2]))\n",
    "    new_y = []\n",
    "    \n",
    "    for i in range(0,len(x)):\n",
    "        for j in x[i]:\n",
    "            new_y.append(i)\n",
    "    new_y = np.array(new_y)\n",
    "    \n",
    "    return new_x, new_y"
   ]
  },
  {
   "cell_type": "markdown",
   "metadata": {},
   "source": [
    "Can be used to shuffle the data before creating datasets (and dataloaders) from it. Since the data is ordered by class there might be problems without shuffling"
   ]
  },
  {
   "cell_type": "code",
   "execution_count": 114,
   "metadata": {},
   "outputs": [],
   "source": [
    "def shuffle_2d_array(x, y):\n",
    "    assert len(x) == len(y)\n",
    "    p = np.random.permutation(len(x))\n",
    "    return x[p], y[p]"
   ]
  },
  {
   "cell_type": "markdown",
   "metadata": {},
   "source": [
    "Use functions to generate data and plot these"
   ]
  },
  {
   "cell_type": "code",
   "execution_count": 115,
   "metadata": {},
   "outputs": [
    {
     "data": {
      "text/plain": "<Figure size 432x288 with 1 Axes>",
      "image/png": "[encoded data removed]"
     },
     "metadata": {
      "needs_background": "light"
     },
     "output_type": "display_data"
    }
   ],
   "source": [
    "params = {\n",
    "    \"generator\":{\n",
    "        \"sample_number\": 10000,\n",
    "        \"gauss\":{\n",
    "            \"class_0\": [(-50,10),(-100,10), (-200, 50)],\n",
    "            \"class_1\": [(50,10),(100,10), (0, 50)]\n",
    "        }\n",
    "    }\n",
    "}\n",
    "\n",
    "g = generator(params)\n",
    "\n",
    "\n",
    "data = g.get_data()\n",
    "\n",
    "plot_dist(data)"
   ]
  },
  {
   "cell_type": "markdown",
   "metadata": {},
   "source": [
    "# Confounder Injection"
   ]
  },
  {
   "cell_type": "markdown",
   "metadata": {},
   "source": [
    "### Definition of Confounder Class"
   ]
  },
  {
   "cell_type": "markdown",
   "metadata": {},
   "source": [
    "The confounder class can be used to inject confounders in data given as numpy arrays (class, samples, features) and outputs numpy arrays of the same dimension"
   ]
  },
  {
   "cell_type": "code",
   "execution_count": 116,
   "metadata": {},
   "outputs": [],
   "source": [
    "class confounder_injection:\n",
    "    def __init__(self, data, params):\n",
    "        self.data = np.array(data)\n",
    "        self.params = params\n",
    "        \n",
    "        if \"inject_noise\" in self.params[\"confounding\"]:\n",
    "            self.inject_noise()\n",
    "        if \"add_confounder\" in self.params[\"confounding\"]:\n",
    "            self.add_confounder()\n",
    "        # TODO should parse the parameters and execute confounding techniques which are specified in the params\n",
    "    \n",
    "    \n",
    "    def inject_noise(self):\n",
    "        '''\n",
    "        Injects noise in distribution\n",
    "        Parameters are noise_rate (number of samples to be manipulated) and noise_factor (impact of noise)\n",
    "        '''\n",
    "        noise_params = self.params[\"confounding\"][\"inject_noise\"]\n",
    "        noise_rate = noise_params[\"noise_rate\"]\n",
    "        noise_factor = noise_params[\"noise_factor\"]\n",
    "        \n",
    "        \n",
    "        for c in noise_params[\"classes\"]:\n",
    "            for i in range(0,len(self.data[c])):\n",
    "                if random.uniform(0, 1) < noise_rate:\n",
    "                    self.data[c][i] += random.uniform(-noise_factor,noise_factor)\n",
    "        \n",
    "        return\n",
    "    \n",
    "    \n",
    "    def add_confounder(self):\n",
    "        '''\n",
    "        Injects confounder in distribution\n",
    "        Parameters are distribution, mean  and std\n",
    "        '''\n",
    "        add_confounder_params = self.params[\"confounding\"][\"add_confounder\"]\n",
    "        \n",
    "        for c in add_confounder_params:\n",
    "            confounder = add_confounder_params[c]\n",
    "\n",
    "            distribution = None\n",
    "            if confounder[\"distribution\"] == \"gauss\":\n",
    "                distribution = np.random.normal\n",
    "            assert distribution != None\n",
    "            \n",
    "            for c in confounder[\"classes\"]:\n",
    "                for i in range(0,len(self.data[c])):\n",
    "                    for f in confounder[\"features\"]:\n",
    "                        self.data[c][i][f] += distribution(confounder[\"mean\"], confounder[\"std\"])\n",
    "        \n",
    "        return\n",
    "        \n",
    "        \n",
    "    def get_data(self):\n",
    "        return self.data"
   ]
  },
  {
   "cell_type": "markdown",
   "metadata": {},
   "source": [
    "# Pytorch Model"
   ]
  },
  {
   "cell_type": "code",
   "execution_count": 117,
   "metadata": {},
   "outputs": [],
   "source": [
    "import torch\n",
    "from torch import nn\n",
    "from torch.utils.data import DataLoader\n",
    "#from torchvision import datasets\n",
    "#from torchvision.transforms import ToTensor, Lambda, Compose"
   ]
  },
  {
   "cell_type": "markdown",
   "metadata": {},
   "source": [
    "### Custom Dataset for Pytorch"
   ]
  },
  {
   "cell_type": "code",
   "execution_count": 118,
   "metadata": {},
   "outputs": [],
   "source": [
    "class CfDataset(torch.utils.data.Dataset):\n",
    "    def __init__(self, x, y):\n",
    "        self.x = x\n",
    "        self.y = y\n",
    "\n",
    "    def __len__(self):\n",
    "        return len(self.y)\n",
    "\n",
    "    def __getitem__(self, idx):\n",
    "        return self.x[idx], self.y[idx]\n"
   ]
  },
  {
   "cell_type": "markdown",
   "metadata": {},
   "source": [
    "### Conversion of numpy arrays to dataloaders"
   ]
  },
  {
   "cell_type": "markdown",
   "metadata": {},
   "source": [
    "Pytorch needs dataloaders as inputs. This class handels conversion from output from confounder class (numpy array), to tensor, datasets and finally dataloaders. Furthermore the data is split into training- and test-data"
   ]
  },
  {
   "cell_type": "code",
   "execution_count": 119,
   "metadata": {},
   "outputs": [],
   "source": [
    "class create_dataset:\n",
    "    def __init__(self, x, y, split):\n",
    "        self.x = x\n",
    "        self.y = y\n",
    "        self.split = split\n",
    "\n",
    "    \n",
    "    def get_dataset(self):\n",
    "        # not needed anymore\n",
    "        #x, y = transform_array(x,  y)\n",
    "\n",
    "        tensor_x = torch.Tensor(self.x)\n",
    "        tensor_y = torch.Tensor(self.y).long()\n",
    "\n",
    "        dataset = CfDataset(tensor_x, tensor_y)\n",
    "        return dataset\n",
    "\n",
    "\n",
    "    def split_dataset(self, dataset):\n",
    "        # split dataset\n",
    "        train_size = int(self.split * len(dataset))\n",
    "        test_size = len(dataset) - train_size\n",
    "        train_dataset, test_dataset = torch.utils.data.random_split(dataset,[train_size,test_size])\n",
    "        return train_dataset, test_dataset\n",
    "\n",
    "    # returns dataloader for NN\n",
    "    def get_dataloader(self):\n",
    "        dataset = self.get_dataset()\n",
    "        train_dataset, test_dataset = self.split_dataset(dataset)\n",
    "\n",
    "        # create DataLoader\n",
    "        train_dataloader = DataLoader(train_dataset, shuffle=True)\n",
    "        test_dataloader = DataLoader(test_dataset, shuffle=True)\n",
    "\n",
    "        return train_dataloader, test_dataloader"
   ]
  },
  {
   "cell_type": "markdown",
   "metadata": {},
   "source": [
    "### NNs for computations"
   ]
  },
  {
   "cell_type": "markdown",
   "metadata": {},
   "source": [
    "NeuralNetwork is basically a linear classifier"
   ]
  },
  {
   "cell_type": "code",
   "execution_count": 120,
   "metadata": {},
   "outputs": [],
   "source": [
    "# Building a Neural Network architecture\n",
    "class NeuralNetwork(nn.Module):\n",
    "    def __init__(self):\n",
    "        super(NeuralNetwork, self).__init__()\n",
    "        self.flatten = nn.Flatten()\n",
    "        self.linear_relu_stack = nn.Sequential(\n",
    "            nn.Linear(3, 2),\n",
    "            #nn.ReLU(),\n",
    "            #nn.Linear(100, 2),\n",
    "            #nn.ReLU(),\n",
    "            #nn.Linear(8, 3)\n",
    "        )\n",
    "    \n",
    "    def forward(self, x):\n",
    "        x = self.flatten(x)\n",
    "        logits = self.linear_relu_stack(x)\n",
    "        return logits"
   ]
  },
  {
   "cell_type": "markdown",
   "metadata": {},
   "source": [
    "### Train and test model with pytorch"
   ]
  },
  {
   "cell_type": "markdown",
   "metadata": {},
   "source": [
    "Defines train- and test-methods and runs these on the model with the input data"
   ]
  },
  {
   "cell_type": "code",
   "execution_count": 121,
   "metadata": {},
   "outputs": [],
   "source": [
    "class run_pytorch:\n",
    "    def __init__(self, model, train_dataloader, test_dataloader):\n",
    "        if model == \"NeuralNetwork()\":\n",
    "            self.model = NeuralNetwork()\n",
    "        self.train_dataloader = train_dataloader\n",
    "        self.test_dataloader = test_dataloader\n",
    "        #self.run()\n",
    "\n",
    "    \n",
    "    # Training\n",
    "    def train(self, dataloader, loss_fn, optimizer, device):\n",
    "        size = len(dataloader.dataset)\n",
    "        self.model.train()\n",
    "        for batch, (X,y) in enumerate(dataloader):\n",
    "            X,y = X.to(device), y.to(device)\n",
    "\n",
    "            # Compute prediction error\n",
    "            pred = self.model(X)\n",
    "            loss = loss_fn(pred, y)\n",
    "\n",
    "            # Backpropagation\n",
    "            optimizer.zero_grad()\n",
    "            loss.backward()\n",
    "            optimizer.step()\n",
    "\n",
    "            \n",
    "    # Defining the test\n",
    "    def test(self, dataloader, loss_fn, device):\n",
    "        size = len(dataloader.dataset)\n",
    "        num_batches = len(dataloader)\n",
    "        self.model.eval()\n",
    "        test_loss, correct = 0, 0\n",
    "        with torch.no_grad():\n",
    "            for X,y in dataloader:\n",
    "                X,y = X.to(device), y.to(device)\n",
    "                pred = self.model(X)\n",
    "                test_loss += loss_fn(pred, y).item()\n",
    "                correct += (pred.argmax(1) == y).type(torch.float).sum().item()\n",
    "        test_loss /= num_batches\n",
    "        correct /= size\n",
    "\n",
    "        return correct, test_loss\n",
    "    \n",
    "    \n",
    "    def run(self):\n",
    "\n",
    "        # Defining model\n",
    "        device = \"cpu\"\n",
    "        self.model = self.model.to(device)\n",
    "\n",
    "        # Defining loss function and optimizer\n",
    "        loss_fn = nn.CrossEntropyLoss()\n",
    "        optimizer = torch.optim.SGD(self.model.parameters(), lr=1e-3)\n",
    "\n",
    "        epochs = 1\n",
    "        mean = 0\n",
    "        loss = 0\n",
    "\n",
    "        for t in range(epochs):\n",
    "            #print(f\"Epoch {t+1}\\n-------------------------------\")\n",
    "            self.train(self.train_dataloader, loss_fn, optimizer, device)\n",
    "            correct, test_loss = self.test(self.test_dataloader, loss_fn, device)\n",
    "            mean +=correct\n",
    "            loss += test_loss\n",
    "        #print(\"Done!\\n\\n\")\n",
    "\n",
    "        return mean/epochs, loss/epochs\n",
    "    "
   ]
  },
  {
   "cell_type": "markdown",
   "metadata": {},
   "source": [
    "# Check for confounders"
   ]
  },
  {
   "cell_type": "markdown",
   "metadata": {},
   "source": [
    "test_network combines the functions from before and allows easy testing.\n",
    "Premade functions for specific data shifts are available which can be called without needing to know how the generator class, confounder_injection class, etc. work"
   ]
  },
  {
   "cell_type": "code",
   "execution_count": 122,
   "metadata": {},
   "outputs": [],
   "source": [
    "class test_network:\n",
    "    def __init__(self, params, i):\n",
    "        self.model = params[\"model\"]\n",
    "        self.params = params\n",
    "        self.x = None\n",
    "        self.y = None\n",
    "        self.x_cf = None\n",
    "        self.y_cf = None\n",
    "        self.i = i\n",
    "    \n",
    "    \n",
    "    def compute_for_i_rounds(self):\n",
    "\n",
    "        mean, loss, mean_cf, loss_cf = 0, 0, 0, 0\n",
    "\n",
    "        for k in range(0, self.i):\n",
    "\n",
    "            #classes needed for computation\n",
    "            dataset = create_dataset(self.x, self.y, split=0.8)\n",
    "            dataset_cf = create_dataset(self.x_cf, self.y_cf, split=0.8)\n",
    "\n",
    "            # run model on non-confounded class\n",
    "            train_dataloader, test_dataloader = dataset.get_dataloader()\n",
    "            run_pt = run_pytorch(self.model, train_dataloader, test_dataloader)\n",
    "            ret = run_pt.run()\n",
    "            \n",
    "            mean += ret[0]\n",
    "            loss += ret[0]\n",
    "\n",
    "            # run model on non-confounded class     \n",
    "            train_dataloader_cf, test_dataloader_cf = dataset_cf.get_dataloader()\n",
    "            run_pt = run_pytorch(self.model, train_dataloader_cf, test_dataloader)\n",
    "            ret_cf = run_pt.run()\n",
    "            \n",
    "            mean_cf += ret_cf[0]\n",
    "            loss_cf += ret_cf[0]\n",
    "\n",
    "        # compute averages\n",
    "        mean /= self.i\n",
    "        loss /= self.i\n",
    "        mean_cf /= self.i\n",
    "        loss_cf/= self.i\n",
    "\n",
    "        print(f\"---- Computation was done for {self.i} rounds ----\")\n",
    "        print(f\"Non-confounded dataset achieved accuracy of: {mean*100}% and average loss of {loss}\")\n",
    "        print(f\"Confounded dataset achieved accuracy of: {mean_cf*100}% and average loss of {loss_cf}\")\n",
    "\n",
    "        \n",
    "    def run(self):\n",
    "        # generate data\n",
    "        g = generator(self.params)\n",
    "        data = g.get_data()\n",
    "        self.x, self.y = convert_to_2d(data)\n",
    "        self.x, self.y = shuffle_2d_array(self.x, self.y)\n",
    "                \n",
    "        # add bias\n",
    "        cf = confounder_injection(data, self.params)\n",
    "        data_cf = cf.get_data()\n",
    "        self.x_cf, self.y_cf = convert_to_2d(data_cf)\n",
    "        self.x_cf, self.y_cf = shuffle_2d_array(self.x_cf, self.y_cf)\n",
    "        \n",
    "        # plot\n",
    "        plot_2dist(data, data_cf)\n",
    "        \n",
    "        # compute \n",
    "        self.compute_for_i_rounds()\n",
    "        \n",
    "        return"
   ]
  },
  {
   "cell_type": "markdown",
   "metadata": {},
   "source": [
    "### Run tests"
   ]
  },
  {
   "cell_type": "markdown",
   "metadata": {},
   "source": [
    "Parameter combinations can be stored in the dictionary"
   ]
  },
  {
   "cell_type": "code",
   "execution_count": 123,
   "outputs": [],
   "source": [
    "with open(\"parameters.json\") as file:\n",
    "    parameters = json.load(file)"
   ],
   "metadata": {
    "collapsed": false,
    "pycharm": {
     "name": "#%%\n"
    }
   }
  },
  {
   "cell_type": "markdown",
   "metadata": {},
   "source": [
    "With the test_network class it's easy to test new combinations parameters"
   ]
  },
  {
   "cell_type": "code",
   "execution_count": 124,
   "metadata": {
    "scrolled": true
   },
   "outputs": [
    {
     "name": "stdout",
     "output_type": "stream",
     "text": [
      "---- Computation was done for 4 rounds ----\n",
      "Non-confounded dataset achieved accuracy of: 100.0% and average loss of 1.0\n",
      "Confounded dataset achieved accuracy of: 99.9375% and average loss of 0.999375\n"
     ]
    },
    {
     "data": {
      "text/plain": "<Figure size 1080x288 with 2 Axes>",
      "image/png": "[encoded data removed]"
     },
     "metadata": {
      "needs_background": "light"
     },
     "output_type": "display_data"
    }
   ],
   "source": [
    "tn = test_network(parameters[\"param_0\"], i=4)\n",
    "tn.run()"
   ]
  },
  {
   "cell_type": "code",
   "execution_count": 125,
   "metadata": {},
   "outputs": [
    {
     "name": "stdout",
     "output_type": "stream",
     "text": [
      "---- Computation was done for 4 rounds ----\n",
      "Non-confounded dataset achieved accuracy of: 100.0% and average loss of 1.0\n",
      "Confounded dataset achieved accuracy of: 99.875% and average loss of 0.99875\n"
     ]
    },
    {
     "data": {
      "text/plain": "<Figure size 1080x288 with 2 Axes>",
      "image/png": "[encoded data removed]"
     },
     "metadata": {
      "needs_background": "light"
     },
     "output_type": "display_data"
    }
   ],
   "source": [
    "tn = test_network(parameters[\"param_1\"], i=4)\n",
    "tn.run()"
   ]
  },
  {
   "cell_type": "code",
   "execution_count": 126,
   "metadata": {},
   "outputs": [
    {
     "name": "stdout",
     "output_type": "stream",
     "text": [
      "---- Computation was done for 4 rounds ----\n",
      "Non-confounded dataset achieved accuracy of: 100.0% and average loss of 1.0\n",
      "Confounded dataset achieved accuracy of: 100.0% and average loss of 1.0\n"
     ]
    },
    {
     "data": {
      "text/plain": "<Figure size 1080x288 with 2 Axes>",
      "image/png": "[encoded data removed]"
     },
     "metadata": {
      "needs_background": "light"
     },
     "output_type": "display_data"
    }
   ],
   "source": [
    "tn = test_network(parameters[\"param_2\"], i=4)\n",
    "tn.run()"
   ]
  },
  {
   "cell_type": "code",
   "execution_count": 127,
   "metadata": {},
   "outputs": [
    {
     "name": "stdout",
     "output_type": "stream",
     "text": [
      "---- Computation was done for 4 rounds ----\n",
      "Non-confounded dataset achieved accuracy of: 100.0% and average loss of 1.0\n",
      "Confounded dataset achieved accuracy of: 99.9375% and average loss of 0.999375\n"
     ]
    },
    {
     "data": {
      "text/plain": "<Figure size 1080x288 with 2 Axes>",
      "image/png": "[encoded data removed]"
     },
     "metadata": {
      "needs_background": "light"
     },
     "output_type": "display_data"
    }
   ],
   "source": [
    "tn = test_network(parameters[\"param_3\"], i=4)\n",
    "tn.run()"
   ]
  }
 ],
 "metadata": {
  "kernelspec": {
   "name": "confounder_injection",
   "language": "python",
   "display_name": "confounder_injection"
  },
  "language_info": {
   "codemirror_mode": {
    "name": "ipython",
    "version": 3
   },
   "file_extension": ".py",
   "mimetype": "text/x-python",
   "name": "python",
   "nbconvert_exporter": "python",
   "pygments_lexer": "ipython3",
   "version": "3.9.7"
  }
 },
 "nbformat": 4,
 "nbformat_minor": 4
}