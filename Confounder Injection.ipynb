{
 "cells": [
  {
   "cell_type": "code",
   "execution_count": 231,
   "metadata": {},
   "outputs": [],
   "source": [
    "#import pandas as pd\n",
    "import warnings\n",
    "\n",
    "import numpy as np\n",
    "import matplotlib.pyplot as plt\n",
    "import random\n",
    "import json\n",
    "from sklearn.manifold import TSNE\n",
    "import warnings\n",
    "import seaborn as sbs\n",
    "import pandas as pd"
   ]
  },
  {
   "cell_type": "markdown",
   "metadata": {},
   "source": [
    "### changelog\n",
    "- new model with more dimensions\n",
    "- all classes remade\n",
    "- in general more interaction with constructor"
   ]
  },
  {
   "cell_type": "markdown",
   "metadata": {},
   "source": [
    "# Workflow"
   ]
  },
  {
   "cell_type": "markdown",
   "metadata": {},
   "source": [
    "functions of the different classes:\n",
    "\n",
    "1. generator:\n",
    "\n",
    "    generate data sampled from gaussian distribution\n",
    "\n",
    "    in: parameters\n",
    "\n",
    "    out: [class, samples, features]\n",
    "    \n",
    "\n",
    "2. confounder_injection: confound generated data \n",
    "\n",
    "    create bias with different functions (atm \"prior shift\" can be used)\n",
    "    \n",
    "    in: [class, samples, features], parameters\n",
    "    \n",
    "    out [class, samples, features]\n",
    "\n",
    "\n",
    "3. create_dataset:\n",
    "    \n",
    "    takes numpy array and parameters to create tensors, datasets and finally dataloaders (for input in pytorch models)\n",
    "\n",
    "    in: [samples, features], split\n",
    "    \n",
    "    out: dataloaders\n",
    "    \n",
    "\n",
    "4. run_pytorch:\n",
    "    \n",
    "    trains and tests model with given dataloaders and parameters\n",
    "    \n",
    "    in: mode, dataloaders\n",
    "    \n",
    "    out: mean accuracy and loss\n",
    "    \n",
    "\n",
    "5. test_network\n",
    "    in: params, number of rounds\n",
    "    \n",
    "    combines these functions for easier testing"
   ]
  },
  {
   "cell_type": "markdown",
   "metadata": {},
   "source": [
    "# Plotting"
   ]
  },
  {
   "cell_type": "code",
   "execution_count": 232,
   "outputs": [],
   "source": [
    "warnings.filterwarnings(\"ignore\",category=FutureWarning)"
   ],
   "metadata": {
    "collapsed": false,
    "pycharm": {
     "name": "#%%\n"
    }
   }
  },
  {
   "cell_type": "code",
   "execution_count": 233,
   "outputs": [],
   "source": [
    "def plot_confusion_matrix(data, annotation):\n",
    "    plt.title(\"Average accuracy\")\n",
    "    pd_data = pd.DataFrame(data, columns=[\"normal\", \"confounder\"], index=[\"normal\", \"confounder\"])\n",
    "    #print(pd_data)\n",
    "    sbs.heatmap(pd_data, annot=True, fmt='')\n",
    "    plt.ylabel(\"Training\")\n",
    "    plt.xlabel(\"Test\")\n",
    "    plt.show()"
   ],
   "metadata": {
    "collapsed": false,
    "pycharm": {
     "name": "#%%\n"
    }
   }
  },
  {
   "cell_type": "code",
   "execution_count": 234,
   "metadata": {},
   "outputs": [],
   "source": [
    "# plot distributions (includes all samples of the class)\n",
    "def plot_dist(x, y):\n",
    "    data = convert_to_3d(x, y)\n",
    "    size = data.shape[1:]\n",
    "    \n",
    "    for c in data:\n",
    "        c = np.array(c).flatten()\n",
    "        plt.hist(c, bins=100, density=True)\n",
    "    plt.title(\"Distribution of values\")\n",
    "    plt.ylabel(\"Probability\")\n",
    "    plt.xlabel(\"Value\")\n",
    "    plt.show()"
   ]
  },
  {
   "cell_type": "code",
   "execution_count": 235,
   "metadata": {},
   "outputs": [],
   "source": [
    "# plot 2 distributions\n",
    "def plot_2dist(x, y, x_cf, y_cf):\n",
    "    data = convert_to_3d(x, y)\n",
    "    data_cf = convert_to_3d(x_cf, y_cf)\n",
    "    \n",
    "    fig, (ax1, ax2) = plt.subplots(1, 2, sharey=True, sharex=True)\n",
    "    fig.suptitle('Comparison of confounded and non-confounded distributions')\n",
    "    fig.set_figwidth(15)\n",
    "\n",
    "    # plot original distributions\n",
    "    for c in data:\n",
    "        c = np.array(c).flatten()\n",
    "        ax1.hist(c, bins=100, density=False)\n",
    "    ax1.set_title(\"Distribution of values\")\n",
    "    ax1.set(xlabel=\"Value\", ylabel=\"Number of Samples\")\n",
    "\n",
    "    # plot confounded distributions\n",
    "    for c in data_cf:\n",
    "        c = np.array(c).flatten()\n",
    "        ax2.hist(c, bins=100, density=False)\n",
    "\n",
    "    ax2.set_title(\"Distribution of confounded values\")\n",
    "    ax2.set(xlabel=\"Value\", ylabel=\"Number of Samples\")"
   ]
  },
  {
   "cell_type": "code",
   "execution_count": 236,
   "outputs": [],
   "source": [
    "# plot 2 distributions\n",
    "def plot_2dist_scatter(x, y, x_cf, y_cf):\n",
    "    fig, (ax1, ax2) = plt.subplots(1, 2, sharey=False, sharex=False)\n",
    "    fig.suptitle('Comparison of confounded and non-confounded distributions')\n",
    "    fig.set_figwidth(15)\n",
    "\n",
    "    # plot original distributions\n",
    "    sbs.scatterplot(ax=ax1, x=x[:,0], y=x[:,1], hue=y)\n",
    "    ax1.set_title(\"t-SNE\")\n",
    "    ax1.set(xlabel=\"x\", ylabel=\"y\")\n",
    "\n",
    "    # plot confounded distributions\n",
    "    sbs.scatterplot(ax=ax2, x=x_cf[:,0], y=x_cf[:,1], hue=y_cf)\n",
    "    ax2.set_title(\"t-SNE (confounded)\")\n",
    "    ax2.set(xlabel=\"x\", ylabel=\"y\")\n",
    "    plt.show()"
   ],
   "metadata": {
    "collapsed": false,
    "pycharm": {
     "name": "#%%\n"
    }
   }
  },
  {
   "cell_type": "code",
   "execution_count": 237,
   "outputs": [],
   "source": [
    "# plot distributions (includes all samples of the class)\n",
    "def plot_dist_tsne(x, y):\n",
    "\n",
    "    sbs.scatterplot(x=x[:,0], y=x[:,1], hue=y)\n",
    "    plt.title(\"t-SNE\")\n",
    "    plt.ylabel(\"Probability\")\n",
    "    plt.xlabel(\"Value\")\n",
    "    plt.show()"
   ],
   "metadata": {
    "collapsed": false,
    "pycharm": {
     "name": "#%%\n"
    }
   }
  },
  {
   "cell_type": "code",
   "execution_count": 238,
   "outputs": [],
   "source": [
    "# use t-SNE for plotting\n",
    "def plot_2dist_tsne(x, y, x_cf, y_cf):\n",
    "    x_embedded = TSNE(random_state=42, n_components=2, learning_rate=\"auto\", init=\"pca\").fit_transform(x)\n",
    "    x_cf_embedded = TSNE(random_state=42, n_components=2, learning_rate=\"auto\", init=\"pca\").fit_transform(x_cf)\n",
    "    plot_2dist_scatter(x_embedded, y, x_cf_embedded, y_cf)"
   ],
   "metadata": {
    "collapsed": false,
    "pycharm": {
     "name": "#%%\n"
    }
   }
  },
  {
   "cell_type": "code",
   "execution_count": 239,
   "outputs": [],
   "source": [
    "def plot_4dist(x, y):\n",
    "    fig, ax = plt.subplots(2, 2, sharey=False, sharex=False)\n",
    "    fig.suptitle('Comparison of confounded and non-confounded distributions')\n",
    "    fig.set_figwidth(15)\n",
    "\n",
    "    # plot original distributions\n",
    "    sbs.scatterplot(ax=ax[0][0], x=x[0][:,0], y=x[0][:,1], hue=y[0])\n",
    "    ax[0][0].set_title(\"t-SNE\")\n",
    "    ax[0][0].set(xlabel=\"x\", ylabel=\"y\")\n",
    "\n",
    "    # plot confounded distributions\n",
    "    sbs.scatterplot(ax=ax[0][1], x=x[1][:,0], y=x[1][:,1], hue=y[1])\n",
    "    ax[0][1].set_title(\"t-SNE (confounded)\")\n",
    "    ax[0][1].set(xlabel=\"x\", ylabel=\"y\")\n",
    "\n",
    "    # plot confounded distributions\n",
    "    sbs.scatterplot(ax=ax[1][0], x=x[2][:,0], y=x[2][:,1], hue=y[2])\n",
    "    ax[1][0].set_title(\"t-SNE (confounded)\")\n",
    "    ax[1][0].set(xlabel=\"x\", ylabel=\"y\")\n",
    "\n",
    "    # plot confounded distributions\n",
    "    sbs.scatterplot(ax=ax[1][1], x=x[3][:,0], y=x[3][:,1], hue=y[3])\n",
    "    ax[1][1].set_title(\"t-SNE (confounded)\")\n",
    "    ax[1][1].set(xlabel=\"x\", ylabel=\"y\")"
   ],
   "metadata": {
    "collapsed": false,
    "pycharm": {
     "name": "#%%\n"
    }
   }
  },
  {
   "cell_type": "code",
   "execution_count": 240,
   "outputs": [],
   "source": [
    "def plot_4dist_tsne(x, y):\n",
    "    x0_embedded = TSNE(random_state=42, n_components=2, learning_rate=\"auto\", init=\"pca\").fit_transform(x[0])\n",
    "    x1_embedded = TSNE(random_state=42, n_components=2, learning_rate=\"auto\", init=\"pca\").fit_transform(x[1])\n",
    "    x2_embedded = TSNE(random_state=42, n_components=2, learning_rate=\"auto\", init=\"pca\").fit_transform(x[2])\n",
    "    x3_embedded = TSNE(random_state=42, n_components=2, learning_rate=\"auto\", init=\"pca\").fit_transform(x[3])\n",
    "    plot_4dist([x0_embedded,x1_embedded,x2_embedded,x3_embedded], y)\n"
   ],
   "metadata": {
    "collapsed": false,
    "pycharm": {
     "name": "#%%\n"
    }
   }
  },
  {
   "cell_type": "markdown",
   "metadata": {},
   "source": [
    "# Generating Data"
   ]
  },
  {
   "cell_type": "markdown",
   "metadata": {},
   "source": [
    "Generator returns data of dimension (class, samples, features) where the features of the samples are taken from gaussian distributions with adjustable parameters."
   ]
  },
  {
   "cell_type": "code",
   "execution_count": 241,
   "metadata": {},
   "outputs": [],
   "source": [
    "class generator:\n",
    "    def __init__(self, params):\n",
    "        self.data = None\n",
    "        self.params = params[\"generator\"]\n",
    "        self.create_data()\n",
    "        \n",
    "    \n",
    "    \n",
    "    def create_data(self):\n",
    "        '''\n",
    "        creates the test data with the distributions given by the parameters\n",
    "        '''\n",
    "        \n",
    "        data = []\n",
    "        \n",
    "        for c in self.params[\"gauss\"]:\n",
    "            clas = []\n",
    "            for n in range(0, self.params[\"sample_number\"]):\n",
    "                sample = []\n",
    "                for mean, std in self.params[\"gauss\"][c]:\n",
    "                    sample.extend(np.random.normal(mean, std, 1))\n",
    "                clas.append(sample)\n",
    "            data.append(clas)\n",
    "                                \n",
    "        self.data = np.array(data)\n",
    "        \n",
    "        return\n",
    "    \n",
    "        \n",
    "    def get_data(self):\n",
    "        '''\n",
    "        dimension of data is (class, sample, feature)\n",
    "        '''\n",
    "        \n",
    "        return self.data\n",
    "    "
   ]
  },
  {
   "cell_type": "markdown",
   "metadata": {},
   "source": [
    "convert_to_3d takes x of dimension (samples, features) and y of dimension (samples) and outputs array of dimension (class, samples, features)"
   ]
  },
  {
   "cell_type": "code",
   "execution_count": 242,
   "metadata": {},
   "outputs": [],
   "source": [
    "def convert_to_3d(x, y):\n",
    "    classes = np.unique(y)\n",
    "    array = []\n",
    "    \n",
    "    for c in classes:\n",
    "        filter_array = (y == c)\n",
    "        \n",
    "        array.append(x[filter_array].tolist())\n",
    "    \n",
    "    return np.array(array)\n",
    "    "
   ]
  },
  {
   "cell_type": "markdown",
   "metadata": {},
   "source": [
    "convert_to_2d takes data of dimension (class, samples, features) and outputs arrays x of dimension (samples, features) and y of dimension (samples)"
   ]
  },
  {
   "cell_type": "code",
   "execution_count": 243,
   "metadata": {},
   "outputs": [],
   "source": [
    "def convert_to_2d(x):\n",
    "    new_x = np.reshape(x,(x.shape[0]*x.shape[1], x.shape[2]))\n",
    "    new_y = []\n",
    "    \n",
    "    for i in range(0,len(x)):\n",
    "        for j in x[i]:\n",
    "            new_y.append(i)\n",
    "    new_y = np.array(new_y)\n",
    "    \n",
    "    return new_x, new_y"
   ]
  },
  {
   "cell_type": "markdown",
   "metadata": {},
   "source": [
    "Can be used to shuffle the data before creating datasets (and dataloaders) from it. Since the data is ordered by class there might be problems without shuffling"
   ]
  },
  {
   "cell_type": "code",
   "execution_count": 244,
   "metadata": {},
   "outputs": [],
   "source": [
    "def shuffle_2d_array(x, y):\n",
    "    assert len(x) == len(y)\n",
    "    p = np.random.RandomState(seed=42).permutation(len(x))\n",
    "    return x[p], y[p]"
   ]
  },
  {
   "cell_type": "markdown",
   "metadata": {},
   "source": [
    "Use functions to generate data and plot these"
   ]
  },
  {
   "cell_type": "code",
   "execution_count": 245,
   "metadata": {},
   "outputs": [
    {
     "data": {
      "text/plain": "<Figure size 432x288 with 1 Axes>",
      "image/png": "[encoded data removed]"
     },
     "metadata": {
      "needs_background": "light"
     },
     "output_type": "display_data"
    }
   ],
   "source": [
    "params = {\n",
    "    \"generator\":{\n",
    "        \"sample_number\": 10000,\n",
    "        \"gauss\":{\n",
    "            \"class_0\": [(-50,10),(-100,10), (-200, 50)],\n",
    "            \"class_1\": [(50,10),(100,10), (0, 50)]\n",
    "        }\n",
    "    }\n",
    "}\n",
    "\n",
    "g = generator(params)\n",
    "\n",
    "\n",
    "data = g.get_data()\n",
    "x, y = convert_to_2d(data)\n",
    "plot_dist_tsne(x, y)"
   ]
  },
  {
   "cell_type": "markdown",
   "metadata": {},
   "source": [
    "# Confounder Injection"
   ]
  },
  {
   "cell_type": "markdown",
   "metadata": {},
   "source": [
    "### Definition of Confounder Class"
   ]
  },
  {
   "cell_type": "markdown",
   "metadata": {},
   "source": [
    "The confounder class can be used to inject confounders in data given as numpy arrays (class, samples, features) and outputs numpy arrays of the same dimension"
   ]
  },
  {
   "cell_type": "code",
   "execution_count": 246,
   "metadata": {},
   "outputs": [],
   "source": [
    "class confounder_injection:\n",
    "    def __init__(self, data, params):\n",
    "        self.data = np.array(data)\n",
    "        self.params = params\n",
    "        \n",
    "        if \"inject_noise\" in self.params[\"confounding\"]:\n",
    "            self.inject_noise()\n",
    "        if \"add_confounder\" in self.params[\"confounding\"]:\n",
    "            self.add_confounder()\n",
    "        # TODO should parse the parameters and execute confounding techniques which are specified in the params\n",
    "    \n",
    "    \n",
    "    def inject_noise(self):\n",
    "        '''\n",
    "        Injects noise in distribution\n",
    "        Parameters are noise_rate (number of samples to be manipulated) and noise_factor (impact of noise)\n",
    "        '''\n",
    "        noise_params = self.params[\"confounding\"][\"inject_noise\"]\n",
    "        \n",
    "        for noise in noise_params:\n",
    "            noise_rate = noise_params[noise][\"noise_rate\"]\n",
    "            noise_factor = noise_params[noise][\"noise_factor\"]\n",
    "            for c in noise_params[noise][\"classes\"]:\n",
    "                for i in range(0,len(self.data[c])):\n",
    "                    if random.uniform(0, 1) < noise_rate:\n",
    "                        self.data[c][i] += random.uniform(-noise_factor,noise_factor)\n",
    "\n",
    "        return\n",
    "    \n",
    "    \n",
    "    def add_confounder(self):\n",
    "        '''\n",
    "        Injects confounder in distribution\n",
    "        Parameters are distribution, mean  and std\n",
    "        '''\n",
    "        add_confounder_params = self.params[\"confounding\"][\"add_confounder\"]\n",
    "        \n",
    "        for c in add_confounder_params:\n",
    "            confounder = add_confounder_params[c]\n",
    "\n",
    "            distribution = None\n",
    "            if confounder[\"distribution\"] == \"gauss\":\n",
    "                distribution = np.random.normal\n",
    "            assert distribution != None\n",
    "            \n",
    "            for c in confounder[\"classes\"]:\n",
    "                for i in range(0,len(self.data[c])):\n",
    "                    for f in confounder[\"features\"]:\n",
    "                        self.data[c][i][f] += distribution(confounder[\"mean\"], confounder[\"std\"])\n",
    "        \n",
    "        return\n",
    "        \n",
    "        \n",
    "    def get_data(self):\n",
    "        return self.data"
   ]
  },
  {
   "cell_type": "markdown",
   "metadata": {},
   "source": [
    "# Pytorch Model"
   ]
  },
  {
   "cell_type": "code",
   "execution_count": 247,
   "metadata": {},
   "outputs": [],
   "source": [
    "import torch\n",
    "from torch import nn\n",
    "from torch.utils.data import DataLoader\n",
    "#from torchvision import datasets\n",
    "#from torchvision.transforms import ToTensor, Lambda, Compose"
   ]
  },
  {
   "cell_type": "markdown",
   "metadata": {},
   "source": [
    "### Custom Dataset for Pytorch"
   ]
  },
  {
   "cell_type": "code",
   "execution_count": 248,
   "metadata": {},
   "outputs": [],
   "source": [
    "class CfDataset(torch.utils.data.Dataset):\n",
    "    def __init__(self, x, y):\n",
    "        self.x = x\n",
    "        self.y = y\n",
    "\n",
    "    def __len__(self):\n",
    "        return len(self.y)\n",
    "\n",
    "    def __getitem__(self, idx):\n",
    "        return self.x[idx], self.y[idx]\n"
   ]
  },
  {
   "cell_type": "markdown",
   "metadata": {},
   "source": [
    "### Conversion of numpy arrays to dataloaders"
   ]
  },
  {
   "cell_type": "markdown",
   "metadata": {},
   "source": [
    "Pytorch needs dataloaders as inputs. This class handels conversion from output from confounder class (numpy array), to tensor, datasets and finally dataloaders. Furthermore the data is split into training- and test-data"
   ]
  },
  {
   "cell_type": "code",
   "execution_count": 249,
   "metadata": {},
   "outputs": [],
   "source": [
    "class create_dataset:\n",
    "    def __init__(self, x, y, split):\n",
    "        self.x = x\n",
    "        self.y = y\n",
    "        self.split = split\n",
    "\n",
    "    \n",
    "    def get_dataset(self):\n",
    "        # not needed anymore\n",
    "        #x, y = transform_array(x,  y)\n",
    "\n",
    "        tensor_x = torch.Tensor(self.x)\n",
    "        tensor_y = torch.Tensor(self.y).long()\n",
    "\n",
    "        dataset = CfDataset(tensor_x, tensor_y)\n",
    "        return dataset\n",
    "\n",
    "\n",
    "    def split_dataset(self, dataset):\n",
    "        # split dataset\n",
    "        train_size = int(self.split * len(dataset))\n",
    "        test_size = len(dataset) - train_size\n",
    "        train_dataset, test_dataset = torch.utils.data.random_split(dataset,[train_size,test_size])\n",
    "        return train_dataset, test_dataset\n",
    "\n",
    "    # returns dataloader for NN\n",
    "    def get_dataloader(self):\n",
    "        dataset = self.get_dataset()\n",
    "        train_dataset, test_dataset = self.split_dataset(dataset)\n",
    "\n",
    "        # create DataLoader\n",
    "        train_dataloader = DataLoader(train_dataset, shuffle=True)\n",
    "        test_dataloader = DataLoader(test_dataset, shuffle=True)\n",
    "\n",
    "        return train_dataloader, test_dataloader"
   ]
  },
  {
   "cell_type": "markdown",
   "metadata": {},
   "source": [
    "### NNs for computations"
   ]
  },
  {
   "cell_type": "markdown",
   "metadata": {},
   "source": [
    "NeuralNetwork is basically a linear classifier"
   ]
  },
  {
   "cell_type": "code",
   "execution_count": 250,
   "metadata": {},
   "outputs": [],
   "source": [
    "# Building a Neural Network architecture\n",
    "class NeuralNetwork(nn.Module):\n",
    "    def __init__(self, input_size):\n",
    "        super(NeuralNetwork, self).__init__()\n",
    "        self.flatten = nn.Flatten()\n",
    "        self.linear_relu_stack = nn.Sequential(\n",
    "            nn.Linear(input_size, 100),\n",
    "            #nn.ReLU(),\n",
    "            #nn.Linear(100, 2),\n",
    "            #nn.ReLU(),\n",
    "            #nn.Linear(8, 3)\n",
    "        )\n",
    "    \n",
    "    def forward(self, x):\n",
    "        x = self.flatten(x)\n",
    "        logits = self.linear_relu_stack(x)\n",
    "        return logits"
   ]
  },
  {
   "cell_type": "markdown",
   "metadata": {},
   "source": [
    "### Train and test model with pytorch"
   ]
  },
  {
   "cell_type": "markdown",
   "metadata": {},
   "source": [
    "Defines train- and test-methods and runs these on the model with the input data"
   ]
  },
  {
   "cell_type": "code",
   "execution_count": 251,
   "metadata": {},
   "outputs": [],
   "source": [
    "class run_pytorch:\n",
    "    # test_dataloader[0]: normal\n",
    "    # test_dataloader[1]: confounded\n",
    "    # train_dataloader: just the data\n",
    "    def __init__(self, model, train_dataloader, test_dataloader, input_size):\n",
    "        if model == \"NeuralNetwork()\":\n",
    "            self.model = NeuralNetwork(input_size)\n",
    "        self.train_dataloader = train_dataloader\n",
    "        self.test_dataloader = test_dataloader\n",
    "        #self.run()\n",
    "\n",
    "    \n",
    "    # Training\n",
    "    def train(self, dataloader, loss_fn, optimizer, device):\n",
    "        size = len(dataloader.dataset)\n",
    "        self.model.train()\n",
    "        for batch, (X,y) in enumerate(dataloader):\n",
    "            X,y = X.to(device), y.to(device)\n",
    "\n",
    "            # Compute prediction error\n",
    "            pred = self.model(X)\n",
    "            loss = loss_fn(pred, y)\n",
    "\n",
    "            # Backpropagation\n",
    "            optimizer.zero_grad()\n",
    "            loss.backward()\n",
    "            optimizer.step()\n",
    "\n",
    "            \n",
    "    # Defining the test\n",
    "    def test(self, dataloader, loss_fn, device):\n",
    "        size = len(dataloader.dataset)\n",
    "        num_batches = len(dataloader)\n",
    "        self.model.eval()\n",
    "        test_loss, correct = 0, 0\n",
    "        with torch.no_grad():\n",
    "            for X,y in dataloader:\n",
    "                X,y = X.to(device), y.to(device)\n",
    "                pred = self.model(X)\n",
    "                test_loss += loss_fn(pred, y).item()\n",
    "                correct += (pred.argmax(1) == y).type(torch.float).sum().item()\n",
    "        test_loss /= num_batches\n",
    "        correct /= size\n",
    "\n",
    "        return correct, test_loss\n",
    "    \n",
    "    \n",
    "    def run(self):\n",
    "\n",
    "        # Defining model\n",
    "        if torch.cuda.is_available():\n",
    "            device = \"cuda\"\n",
    "        else:\n",
    "            device = \"cpu\"\n",
    "        self.model = self.model.to(device)\n",
    "\n",
    "        # Defining loss function and optimizer\n",
    "        loss_fn = nn.CrossEntropyLoss()\n",
    "        optimizer = torch.optim.SGD(self.model.parameters(), lr=1e-3)\n",
    "\n",
    "        mean = [0,0]\n",
    "\n",
    "        self.train(self.train_dataloader, loss_fn, optimizer, device)\n",
    "        correct1, test_loss1 = self.test(self.test_dataloader[0], loss_fn, device)\n",
    "        correct2, test_loss2 = self.test(self.test_dataloader[1], loss_fn, device)\n",
    "        mean[0] +=correct1\n",
    "        mean[1] +=correct2\n",
    "\n",
    "        return [correct1, correct2]\n",
    "    "
   ]
  },
  {
   "cell_type": "markdown",
   "metadata": {},
   "source": [
    "# Check for confounders"
   ]
  },
  {
   "cell_type": "markdown",
   "metadata": {},
   "source": [
    "test_network combines the functions from before and allows easy testing.\n",
    "Premade functions for specific data shifts are available which can be called without needing to know how the generator class, confounder_injection class, etc. work"
   ]
  },
  {
   "cell_type": "code",
   "execution_count": 252,
   "metadata": {},
   "outputs": [],
   "source": [
    "class test_network:\n",
    "    def __init__(self, params, i):\n",
    "        self.model = params[\"model\"]\n",
    "        self.params = params\n",
    "        self.x = None\n",
    "        self.y = None\n",
    "        self.x_cf = None\n",
    "        self.y_cf = None\n",
    "        self.i = i\n",
    "    \n",
    "    \n",
    "    def compute_for_i_rounds(self):\n",
    "\n",
    "        loss, mean_cf, loss_cf =  0, 0, 0\n",
    "        mean = [[0,0],[0,0]]\n",
    "\n",
    "        for k in range(0, self.i):\n",
    "\n",
    "            #classes needed for computation\n",
    "            dataset = create_dataset(self.x, self.y, split=0.8)\n",
    "            dataset_cf = create_dataset(self.x_cf, self.y_cf, split=0.8)\n",
    "\n",
    "            # # run model on non-confounded class\n",
    "            # train_dataloader, test_dataloader = dataset.get_dataloader()\n",
    "            # run_pt = run_pytorch(self.model, train_dataloader, test_dataloader, len(self.x[0]))\n",
    "            # ret = run_pt.run()\n",
    "\n",
    "            # mean += ret[0]\n",
    "            # loss += ret[0]\n",
    "\n",
    "            # # run model on non-confounded class\n",
    "            # train_dataloader_cf, test_dataloader_cf = dataset_cf.get_dataloader()\n",
    "            # run_pt_cf = run_pytorch(self.model, train_dataloader_cf, test_dataloader, len(self.x_cf[0]))\n",
    "            # ret_cf = run_pt_cf.run()\n",
    "\n",
    "\n",
    "            train_dataloader, test_dataloader = dataset.get_dataloader()\n",
    "            train_dataloader_cf, test_dataloader_cf = dataset_cf.get_dataloader()\n",
    "            train_dataloaders = [train_dataloader, train_dataloader_cf]\n",
    "            test_dataloaders = [test_dataloader, test_dataloader_cf]\n",
    "\n",
    "\n",
    "            for i in [0,1]:\n",
    "                run_pt = run_pytorch(self.model, train_dataloaders[i], test_dataloaders, len(self.x[0]))\n",
    "                ret = run_pt.run()\n",
    "                mean[i][0] += ret[0]\n",
    "                mean[i][1] += ret[1]\n",
    "            # mean_cf += ret_cf[0]\n",
    "            # loss_cf += ret_cf[0]\n",
    "\n",
    "        # compute averages\n",
    "        for k in range(0,len(mean)):\n",
    "            for l in range(0,len(mean)):\n",
    "                mean[k][l]=mean[k][l]/self.i\n",
    "                mean[k][l] = round(mean[k][l]*100)/100\n",
    "\n",
    "        print(f\"---- Computation was done for {self.i} rounds ----\")\n",
    "        # print(f\"Non-confounded dataset achieved accuracy of: {mean[0][0]*100}%\")\n",
    "        # print(f\"Confounded dataset achieved accuracy of: {mean[1][0]*100}%\")\n",
    "        plot_confusion_matrix(mean,[[\"normal\", \"confounded\"],[\"normal\",\"confounded\"]])\n",
    "\n",
    "\n",
    "        \n",
    "    def run(self):\n",
    "        # generate data\n",
    "        g = generator(self.params)\n",
    "        data = g.get_data()\n",
    "        self.x, self.y = convert_to_2d(data)\n",
    "        self.x, self.y = shuffle_2d_array(self.x, self.y)\n",
    "                \n",
    "        # add bias\n",
    "        cf = confounder_injection(data, self.params)\n",
    "        data_cf = cf.get_data()\n",
    "        self.x_cf, self.y_cf = convert_to_2d(data_cf)\n",
    "        self.x_cf, self.y_cf = shuffle_2d_array(self.x_cf, self.y_cf)\n",
    "        \n",
    "        # plot\n",
    "        plot_2dist_tsne(self.x, self.y, self.x_cf, self.y_cf)\n",
    "        #plot_4dist_tsne([self.x, self.x, self.x_cf, self.x_cf],[self.y, self.y, self.y_cf, self.y_cf])\n",
    "        \n",
    "        # compute \n",
    "        self.compute_for_i_rounds()\n",
    "        \n",
    "        return"
   ]
  },
  {
   "cell_type": "markdown",
   "metadata": {},
   "source": [
    "### Run tests"
   ]
  },
  {
   "cell_type": "markdown",
   "metadata": {},
   "source": [
    "Parameter combinations can be stored in the dictionary"
   ]
  },
  {
   "cell_type": "code",
   "execution_count": 253,
   "outputs": [
    {
     "name": "stdout",
     "output_type": "stream",
     "text": [
      "CUDA not detected\n"
     ]
    },
    {
     "ename": "FileNotFoundError",
     "evalue": "[Errno 2] No such file or directory: 'parameters.json'",
     "output_type": "error",
     "traceback": [
      "\u001B[0;31m---------------------------------------------------------------------------\u001B[0m",
      "\u001B[0;31mFileNotFoundError\u001B[0m                         Traceback (most recent call last)",
      "\u001B[0;32m/tmp/ipykernel_26621/1166525753.py\u001B[0m in \u001B[0;36m<module>\u001B[0;34m\u001B[0m\n\u001B[1;32m      5\u001B[0m \u001B[0;32melse\u001B[0m\u001B[0;34m:\u001B[0m\u001B[0;34m\u001B[0m\u001B[0;34m\u001B[0m\u001B[0m\n\u001B[1;32m      6\u001B[0m     \u001B[0mprint\u001B[0m\u001B[0;34m(\u001B[0m\u001B[0;34m\"CUDA not detected\"\u001B[0m\u001B[0;34m)\u001B[0m\u001B[0;34m\u001B[0m\u001B[0;34m\u001B[0m\u001B[0m\n\u001B[0;32m----> 7\u001B[0;31m     \u001B[0;32mwith\u001B[0m \u001B[0mopen\u001B[0m\u001B[0;34m(\u001B[0m\u001B[0;34m\"parameters.json\"\u001B[0m\u001B[0;34m)\u001B[0m \u001B[0;32mas\u001B[0m \u001B[0mfile\u001B[0m\u001B[0;34m:\u001B[0m\u001B[0;34m\u001B[0m\u001B[0;34m\u001B[0m\u001B[0m\n\u001B[0m\u001B[1;32m      8\u001B[0m         \u001B[0mparameters\u001B[0m \u001B[0;34m=\u001B[0m \u001B[0mjson\u001B[0m\u001B[0;34m.\u001B[0m\u001B[0mload\u001B[0m\u001B[0;34m(\u001B[0m\u001B[0mfile\u001B[0m\u001B[0;34m)\u001B[0m\u001B[0;34m\u001B[0m\u001B[0;34m\u001B[0m\u001B[0m\n",
      "\u001B[0;31mFileNotFoundError\u001B[0m: [Errno 2] No such file or directory: 'parameters.json'"
     ]
    }
   ],
   "source": [
    "if torch.cuda.is_available():\n",
    "    print(\"CUDA detected\")\n",
    "    with open(\"~/pycharm/confounder_injection/parameters.json\") as file:\n",
    "        parameters = json.load(file)\n",
    "else:\n",
    "    print(\"CUDA not detected\")\n",
    "    with open(\"parameters.json\") as file:\n",
    "        parameters = json.load(file)"
   ],
   "metadata": {
    "collapsed": false,
    "pycharm": {
     "name": "#%%\n"
    }
   }
  },
  {
   "cell_type": "markdown",
   "metadata": {},
   "source": [
    "With the test_network class it's easy to test new combinations parameters"
   ]
  },
  {
   "cell_type": "code",
   "execution_count": null,
   "metadata": {
    "scrolled": true
   },
   "outputs": [],
   "source": [
    "# tn = test_network(parameters[\"2features_justNoise_easy\"], i=1)\n",
    "# tn.run()"
   ]
  },
  {
   "cell_type": "code",
   "execution_count": null,
   "metadata": {},
   "outputs": [],
   "source": [
    "tn = test_network(parameters[\"add_confounder_1\"], i=50)\n",
    "tn.run()"
   ]
  },
  {
   "cell_type": "code",
   "execution_count": null,
   "metadata": {},
   "outputs": [],
   "source": [
    "# tn = test_network(parameters[\"param_2\"], i=1)\n",
    "# tn.run()"
   ]
  },
  {
   "cell_type": "code",
   "execution_count": null,
   "metadata": {},
   "outputs": [],
   "source": [
    "# tn = test_network(parameters[\"param_3\"], i=1)\n",
    "# tn.run()"
   ]
  }
 ],
 "metadata": {
  "kernelspec": {
   "name": "confouder_injection",
   "language": "python",
   "display_name": "confouder_injection"
  },
  "language_info": {
   "codemirror_mode": {
    "name": "ipython",
    "version": 3
   },
   "file_extension": ".py",
   "mimetype": "text/x-python",
   "name": "python",
   "nbconvert_exporter": "python",
   "pygments_lexer": "ipython3",
   "version": "3.9.7"
  }
 },
 "nbformat": 4,
 "nbformat_minor": 4
}